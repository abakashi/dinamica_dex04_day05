{
  "nbformat": 4,
  "nbformat_minor": 0,
  "metadata": {
    "colab": {
      "provenance": [],
      "collapsed_sections": [],
      "mount_file_id": "19bNtjuhhC1spM90p1rd6QtBDsg2BAh_n",
      "authorship_tag": "ABX9TyPfYpHN+0XlzhBxiExKWmzl",
      "include_colab_link": true
    },
    "kernelspec": {
      "name": "python3",
      "display_name": "Python 3"
    },
    "language_info": {
      "name": "python"
    }
  },
  "cells": [
    {
      "cell_type": "markdown",
      "metadata": {
        "id": "view-in-github",
        "colab_type": "text"
      },
      "source": [
        "<a href=\"https://colab.research.google.com/github/cruz-marco/dex_files/blob/main/assign_clu02.ipynb\" target=\"_parent\"><img src=\"https://colab.research.google.com/assets/colab-badge.svg\" alt=\"Open In Colab\"/></a>"
      ]
    },
    {
      "cell_type": "code",
      "execution_count": null,
      "metadata": {
        "id": "4yCGbjyDsuKc"
      },
      "outputs": [],
      "source": [
        "import pandas as pd\n",
        "import numpy as np\n",
        "import matplotlib.pyplot as plt\n",
        "import seaborn as sns\n",
        "from sklearn.preprocessing import StandardScaler\n",
        "from sklearn.mixture import GaussianMixture\n",
        "from sklearn.cluster import MeanShift, estimate_bandwidth"
      ]
    },
    {
      "cell_type": "code",
      "source": [
        "df = pd.read_csv('/content/drive/MyDrive/Datasets/Assign_clustering/clusterass02.csv').drop(columns=['ID'])"
      ],
      "metadata": {
        "id": "QqqE5ueesxhe"
      },
      "execution_count": null,
      "outputs": []
    },
    {
      "cell_type": "code",
      "source": [
        "df.head()"
      ],
      "metadata": {
        "colab": {
          "base_uri": "https://localhost:8080/",
          "height": 206
        },
        "id": "ryd7XUh4tLpN",
        "outputId": "ab775fd5-e8b5-41cd-cef7-200a60215e23"
      },
      "execution_count": null,
      "outputs": [
        {
          "output_type": "execute_result",
          "data": {
            "text/plain": [
              "          0          1          2         3         4          5         6  \\\n",
              "0  7.670533  -8.361275  -4.382564  9.554443 -1.694103 -10.321502 -3.487037   \n",
              "1  6.637839  11.816383   9.915178 -0.405736 -7.225997   6.356163  8.853543   \n",
              "2 -9.647596 -10.778571  10.732021  5.710078 -0.840306   0.988635  1.728992   \n",
              "3  3.912661  -8.657159  -4.019281  8.890826 -1.637873  -5.524985 -3.793121   \n",
              "4 -7.482907 -10.025526   4.898986  2.455718  0.130918  -2.226422  6.583667   \n",
              "\n",
              "           7  \n",
              "0   4.396732  \n",
              "1  -7.518973  \n",
              "2  -6.666212  \n",
              "3   2.372040  \n",
              "4 -10.293174  "
            ],
            "text/html": [
              "\n",
              "  <div id=\"df-5ab70fbb-77bb-43f5-b934-0c3fd9db57f5\">\n",
              "    <div class=\"colab-df-container\">\n",
              "      <div>\n",
              "<style scoped>\n",
              "    .dataframe tbody tr th:only-of-type {\n",
              "        vertical-align: middle;\n",
              "    }\n",
              "\n",
              "    .dataframe tbody tr th {\n",
              "        vertical-align: top;\n",
              "    }\n",
              "\n",
              "    .dataframe thead th {\n",
              "        text-align: right;\n",
              "    }\n",
              "</style>\n",
              "<table border=\"1\" class=\"dataframe\">\n",
              "  <thead>\n",
              "    <tr style=\"text-align: right;\">\n",
              "      <th></th>\n",
              "      <th>0</th>\n",
              "      <th>1</th>\n",
              "      <th>2</th>\n",
              "      <th>3</th>\n",
              "      <th>4</th>\n",
              "      <th>5</th>\n",
              "      <th>6</th>\n",
              "      <th>7</th>\n",
              "    </tr>\n",
              "  </thead>\n",
              "  <tbody>\n",
              "    <tr>\n",
              "      <th>0</th>\n",
              "      <td>7.670533</td>\n",
              "      <td>-8.361275</td>\n",
              "      <td>-4.382564</td>\n",
              "      <td>9.554443</td>\n",
              "      <td>-1.694103</td>\n",
              "      <td>-10.321502</td>\n",
              "      <td>-3.487037</td>\n",
              "      <td>4.396732</td>\n",
              "    </tr>\n",
              "    <tr>\n",
              "      <th>1</th>\n",
              "      <td>6.637839</td>\n",
              "      <td>11.816383</td>\n",
              "      <td>9.915178</td>\n",
              "      <td>-0.405736</td>\n",
              "      <td>-7.225997</td>\n",
              "      <td>6.356163</td>\n",
              "      <td>8.853543</td>\n",
              "      <td>-7.518973</td>\n",
              "    </tr>\n",
              "    <tr>\n",
              "      <th>2</th>\n",
              "      <td>-9.647596</td>\n",
              "      <td>-10.778571</td>\n",
              "      <td>10.732021</td>\n",
              "      <td>5.710078</td>\n",
              "      <td>-0.840306</td>\n",
              "      <td>0.988635</td>\n",
              "      <td>1.728992</td>\n",
              "      <td>-6.666212</td>\n",
              "    </tr>\n",
              "    <tr>\n",
              "      <th>3</th>\n",
              "      <td>3.912661</td>\n",
              "      <td>-8.657159</td>\n",
              "      <td>-4.019281</td>\n",
              "      <td>8.890826</td>\n",
              "      <td>-1.637873</td>\n",
              "      <td>-5.524985</td>\n",
              "      <td>-3.793121</td>\n",
              "      <td>2.372040</td>\n",
              "    </tr>\n",
              "    <tr>\n",
              "      <th>4</th>\n",
              "      <td>-7.482907</td>\n",
              "      <td>-10.025526</td>\n",
              "      <td>4.898986</td>\n",
              "      <td>2.455718</td>\n",
              "      <td>0.130918</td>\n",
              "      <td>-2.226422</td>\n",
              "      <td>6.583667</td>\n",
              "      <td>-10.293174</td>\n",
              "    </tr>\n",
              "  </tbody>\n",
              "</table>\n",
              "</div>\n",
              "      <button class=\"colab-df-convert\" onclick=\"convertToInteractive('df-5ab70fbb-77bb-43f5-b934-0c3fd9db57f5')\"\n",
              "              title=\"Convert this dataframe to an interactive table.\"\n",
              "              style=\"display:none;\">\n",
              "        \n",
              "  <svg xmlns=\"http://www.w3.org/2000/svg\" height=\"24px\"viewBox=\"0 0 24 24\"\n",
              "       width=\"24px\">\n",
              "    <path d=\"M0 0h24v24H0V0z\" fill=\"none\"/>\n",
              "    <path d=\"M18.56 5.44l.94 2.06.94-2.06 2.06-.94-2.06-.94-.94-2.06-.94 2.06-2.06.94zm-11 1L8.5 8.5l.94-2.06 2.06-.94-2.06-.94L8.5 2.5l-.94 2.06-2.06.94zm10 10l.94 2.06.94-2.06 2.06-.94-2.06-.94-.94-2.06-.94 2.06-2.06.94z\"/><path d=\"M17.41 7.96l-1.37-1.37c-.4-.4-.92-.59-1.43-.59-.52 0-1.04.2-1.43.59L10.3 9.45l-7.72 7.72c-.78.78-.78 2.05 0 2.83L4 21.41c.39.39.9.59 1.41.59.51 0 1.02-.2 1.41-.59l7.78-7.78 2.81-2.81c.8-.78.8-2.07 0-2.86zM5.41 20L4 18.59l7.72-7.72 1.47 1.35L5.41 20z\"/>\n",
              "  </svg>\n",
              "      </button>\n",
              "      \n",
              "  <style>\n",
              "    .colab-df-container {\n",
              "      display:flex;\n",
              "      flex-wrap:wrap;\n",
              "      gap: 12px;\n",
              "    }\n",
              "\n",
              "    .colab-df-convert {\n",
              "      background-color: #E8F0FE;\n",
              "      border: none;\n",
              "      border-radius: 50%;\n",
              "      cursor: pointer;\n",
              "      display: none;\n",
              "      fill: #1967D2;\n",
              "      height: 32px;\n",
              "      padding: 0 0 0 0;\n",
              "      width: 32px;\n",
              "    }\n",
              "\n",
              "    .colab-df-convert:hover {\n",
              "      background-color: #E2EBFA;\n",
              "      box-shadow: 0px 1px 2px rgba(60, 64, 67, 0.3), 0px 1px 3px 1px rgba(60, 64, 67, 0.15);\n",
              "      fill: #174EA6;\n",
              "    }\n",
              "\n",
              "    [theme=dark] .colab-df-convert {\n",
              "      background-color: #3B4455;\n",
              "      fill: #D2E3FC;\n",
              "    }\n",
              "\n",
              "    [theme=dark] .colab-df-convert:hover {\n",
              "      background-color: #434B5C;\n",
              "      box-shadow: 0px 1px 3px 1px rgba(0, 0, 0, 0.15);\n",
              "      filter: drop-shadow(0px 1px 2px rgba(0, 0, 0, 0.3));\n",
              "      fill: #FFFFFF;\n",
              "    }\n",
              "  </style>\n",
              "\n",
              "      <script>\n",
              "        const buttonEl =\n",
              "          document.querySelector('#df-5ab70fbb-77bb-43f5-b934-0c3fd9db57f5 button.colab-df-convert');\n",
              "        buttonEl.style.display =\n",
              "          google.colab.kernel.accessAllowed ? 'block' : 'none';\n",
              "\n",
              "        async function convertToInteractive(key) {\n",
              "          const element = document.querySelector('#df-5ab70fbb-77bb-43f5-b934-0c3fd9db57f5');\n",
              "          const dataTable =\n",
              "            await google.colab.kernel.invokeFunction('convertToInteractive',\n",
              "                                                     [key], {});\n",
              "          if (!dataTable) return;\n",
              "\n",
              "          const docLinkHtml = 'Like what you see? Visit the ' +\n",
              "            '<a target=\"_blank\" href=https://colab.research.google.com/notebooks/data_table.ipynb>data table notebook</a>'\n",
              "            + ' to learn more about interactive tables.';\n",
              "          element.innerHTML = '';\n",
              "          dataTable['output_type'] = 'display_data';\n",
              "          await google.colab.output.renderOutput(dataTable, element);\n",
              "          const docLink = document.createElement('div');\n",
              "          docLink.innerHTML = docLinkHtml;\n",
              "          element.appendChild(docLink);\n",
              "        }\n",
              "      </script>\n",
              "    </div>\n",
              "  </div>\n",
              "  "
            ]
          },
          "metadata": {},
          "execution_count": 6
        }
      ]
    },
    {
      "cell_type": "code",
      "source": [
        "scaler = StandardScaler()"
      ],
      "metadata": {
        "id": "KbonbNs-tTea"
      },
      "execution_count": null,
      "outputs": []
    },
    {
      "cell_type": "code",
      "source": [
        "scaler.fit(df)"
      ],
      "metadata": {
        "colab": {
          "base_uri": "https://localhost:8080/"
        },
        "id": "2lPktbOluWZ9",
        "outputId": "0adf394b-f26a-428c-f69d-38fb4996369f"
      },
      "execution_count": null,
      "outputs": [
        {
          "output_type": "execute_result",
          "data": {
            "text/plain": [
              "StandardScaler()"
            ]
          },
          "metadata": {},
          "execution_count": 9
        }
      ]
    },
    {
      "cell_type": "code",
      "source": [
        "df_sc = pd.DataFrame(data=scaler.transform(df), columns=df.columns)"
      ],
      "metadata": {
        "id": "4ftDcI8JuYku"
      },
      "execution_count": null,
      "outputs": []
    },
    {
      "cell_type": "code",
      "source": [
        "df_sc.head()"
      ],
      "metadata": {
        "colab": {
          "base_uri": "https://localhost:8080/",
          "height": 206
        },
        "id": "55PXUpvAugIM",
        "outputId": "f3b1d63f-3e98-4718-cf03-da0064ca8fe2"
      },
      "execution_count": null,
      "outputs": [
        {
          "output_type": "execute_result",
          "data": {
            "text/plain": [
              "          0         1         2         3         4         5         6  \\\n",
              "0  1.633835 -0.995208 -0.868547  1.284560 -0.907247 -1.882019 -0.620652   \n",
              "1  1.440231  2.019582  1.438733 -1.248540 -1.995565  1.306390  1.083079   \n",
              "2 -1.612874 -1.356382  1.570550  0.306850 -0.739275  0.280235  0.099469   \n",
              "3  0.929330 -1.039417 -0.809922  1.115787 -0.896184 -0.965029 -0.662909   \n",
              "4 -1.207049 -1.243868  0.629252 -0.520807 -0.548201 -0.334415  0.769702   \n",
              "\n",
              "          7  \n",
              "0  1.252222  \n",
              "1 -1.163758  \n",
              "2 -0.990855  \n",
              "3  0.841704  \n",
              "4 -1.726243  "
            ],
            "text/html": [
              "\n",
              "  <div id=\"df-42635ecf-72cc-4e19-9a3e-9e72b664fcf8\">\n",
              "    <div class=\"colab-df-container\">\n",
              "      <div>\n",
              "<style scoped>\n",
              "    .dataframe tbody tr th:only-of-type {\n",
              "        vertical-align: middle;\n",
              "    }\n",
              "\n",
              "    .dataframe tbody tr th {\n",
              "        vertical-align: top;\n",
              "    }\n",
              "\n",
              "    .dataframe thead th {\n",
              "        text-align: right;\n",
              "    }\n",
              "</style>\n",
              "<table border=\"1\" class=\"dataframe\">\n",
              "  <thead>\n",
              "    <tr style=\"text-align: right;\">\n",
              "      <th></th>\n",
              "      <th>0</th>\n",
              "      <th>1</th>\n",
              "      <th>2</th>\n",
              "      <th>3</th>\n",
              "      <th>4</th>\n",
              "      <th>5</th>\n",
              "      <th>6</th>\n",
              "      <th>7</th>\n",
              "    </tr>\n",
              "  </thead>\n",
              "  <tbody>\n",
              "    <tr>\n",
              "      <th>0</th>\n",
              "      <td>1.633835</td>\n",
              "      <td>-0.995208</td>\n",
              "      <td>-0.868547</td>\n",
              "      <td>1.284560</td>\n",
              "      <td>-0.907247</td>\n",
              "      <td>-1.882019</td>\n",
              "      <td>-0.620652</td>\n",
              "      <td>1.252222</td>\n",
              "    </tr>\n",
              "    <tr>\n",
              "      <th>1</th>\n",
              "      <td>1.440231</td>\n",
              "      <td>2.019582</td>\n",
              "      <td>1.438733</td>\n",
              "      <td>-1.248540</td>\n",
              "      <td>-1.995565</td>\n",
              "      <td>1.306390</td>\n",
              "      <td>1.083079</td>\n",
              "      <td>-1.163758</td>\n",
              "    </tr>\n",
              "    <tr>\n",
              "      <th>2</th>\n",
              "      <td>-1.612874</td>\n",
              "      <td>-1.356382</td>\n",
              "      <td>1.570550</td>\n",
              "      <td>0.306850</td>\n",
              "      <td>-0.739275</td>\n",
              "      <td>0.280235</td>\n",
              "      <td>0.099469</td>\n",
              "      <td>-0.990855</td>\n",
              "    </tr>\n",
              "    <tr>\n",
              "      <th>3</th>\n",
              "      <td>0.929330</td>\n",
              "      <td>-1.039417</td>\n",
              "      <td>-0.809922</td>\n",
              "      <td>1.115787</td>\n",
              "      <td>-0.896184</td>\n",
              "      <td>-0.965029</td>\n",
              "      <td>-0.662909</td>\n",
              "      <td>0.841704</td>\n",
              "    </tr>\n",
              "    <tr>\n",
              "      <th>4</th>\n",
              "      <td>-1.207049</td>\n",
              "      <td>-1.243868</td>\n",
              "      <td>0.629252</td>\n",
              "      <td>-0.520807</td>\n",
              "      <td>-0.548201</td>\n",
              "      <td>-0.334415</td>\n",
              "      <td>0.769702</td>\n",
              "      <td>-1.726243</td>\n",
              "    </tr>\n",
              "  </tbody>\n",
              "</table>\n",
              "</div>\n",
              "      <button class=\"colab-df-convert\" onclick=\"convertToInteractive('df-42635ecf-72cc-4e19-9a3e-9e72b664fcf8')\"\n",
              "              title=\"Convert this dataframe to an interactive table.\"\n",
              "              style=\"display:none;\">\n",
              "        \n",
              "  <svg xmlns=\"http://www.w3.org/2000/svg\" height=\"24px\"viewBox=\"0 0 24 24\"\n",
              "       width=\"24px\">\n",
              "    <path d=\"M0 0h24v24H0V0z\" fill=\"none\"/>\n",
              "    <path d=\"M18.56 5.44l.94 2.06.94-2.06 2.06-.94-2.06-.94-.94-2.06-.94 2.06-2.06.94zm-11 1L8.5 8.5l.94-2.06 2.06-.94-2.06-.94L8.5 2.5l-.94 2.06-2.06.94zm10 10l.94 2.06.94-2.06 2.06-.94-2.06-.94-.94-2.06-.94 2.06-2.06.94z\"/><path d=\"M17.41 7.96l-1.37-1.37c-.4-.4-.92-.59-1.43-.59-.52 0-1.04.2-1.43.59L10.3 9.45l-7.72 7.72c-.78.78-.78 2.05 0 2.83L4 21.41c.39.39.9.59 1.41.59.51 0 1.02-.2 1.41-.59l7.78-7.78 2.81-2.81c.8-.78.8-2.07 0-2.86zM5.41 20L4 18.59l7.72-7.72 1.47 1.35L5.41 20z\"/>\n",
              "  </svg>\n",
              "      </button>\n",
              "      \n",
              "  <style>\n",
              "    .colab-df-container {\n",
              "      display:flex;\n",
              "      flex-wrap:wrap;\n",
              "      gap: 12px;\n",
              "    }\n",
              "\n",
              "    .colab-df-convert {\n",
              "      background-color: #E8F0FE;\n",
              "      border: none;\n",
              "      border-radius: 50%;\n",
              "      cursor: pointer;\n",
              "      display: none;\n",
              "      fill: #1967D2;\n",
              "      height: 32px;\n",
              "      padding: 0 0 0 0;\n",
              "      width: 32px;\n",
              "    }\n",
              "\n",
              "    .colab-df-convert:hover {\n",
              "      background-color: #E2EBFA;\n",
              "      box-shadow: 0px 1px 2px rgba(60, 64, 67, 0.3), 0px 1px 3px 1px rgba(60, 64, 67, 0.15);\n",
              "      fill: #174EA6;\n",
              "    }\n",
              "\n",
              "    [theme=dark] .colab-df-convert {\n",
              "      background-color: #3B4455;\n",
              "      fill: #D2E3FC;\n",
              "    }\n",
              "\n",
              "    [theme=dark] .colab-df-convert:hover {\n",
              "      background-color: #434B5C;\n",
              "      box-shadow: 0px 1px 3px 1px rgba(0, 0, 0, 0.15);\n",
              "      filter: drop-shadow(0px 1px 2px rgba(0, 0, 0, 0.3));\n",
              "      fill: #FFFFFF;\n",
              "    }\n",
              "  </style>\n",
              "\n",
              "      <script>\n",
              "        const buttonEl =\n",
              "          document.querySelector('#df-42635ecf-72cc-4e19-9a3e-9e72b664fcf8 button.colab-df-convert');\n",
              "        buttonEl.style.display =\n",
              "          google.colab.kernel.accessAllowed ? 'block' : 'none';\n",
              "\n",
              "        async function convertToInteractive(key) {\n",
              "          const element = document.querySelector('#df-42635ecf-72cc-4e19-9a3e-9e72b664fcf8');\n",
              "          const dataTable =\n",
              "            await google.colab.kernel.invokeFunction('convertToInteractive',\n",
              "                                                     [key], {});\n",
              "          if (!dataTable) return;\n",
              "\n",
              "          const docLinkHtml = 'Like what you see? Visit the ' +\n",
              "            '<a target=\"_blank\" href=https://colab.research.google.com/notebooks/data_table.ipynb>data table notebook</a>'\n",
              "            + ' to learn more about interactive tables.';\n",
              "          element.innerHTML = '';\n",
              "          dataTable['output_type'] = 'display_data';\n",
              "          await google.colab.output.renderOutput(dataTable, element);\n",
              "          const docLink = document.createElement('div');\n",
              "          docLink.innerHTML = docLinkHtml;\n",
              "          element.appendChild(docLink);\n",
              "        }\n",
              "      </script>\n",
              "    </div>\n",
              "  </div>\n",
              "  "
            ]
          },
          "metadata": {},
          "execution_count": 12
        }
      ]
    },
    {
      "cell_type": "code",
      "source": [
        "msc = MeanShift(bandwidth=3)"
      ],
      "metadata": {
        "id": "-b0AJzn1uh8-"
      },
      "execution_count": null,
      "outputs": []
    },
    {
      "cell_type": "code",
      "source": [
        "df['msc'] = msc.fit_predict(df_sc)\n",
        "df['msc'] = df['msc'].astype('category')"
      ],
      "metadata": {
        "id": "fNeMvfuXuuYs"
      },
      "execution_count": null,
      "outputs": []
    },
    {
      "cell_type": "code",
      "source": [
        "df['msc'].value_counts()"
      ],
      "metadata": {
        "colab": {
          "base_uri": "https://localhost:8080/"
        },
        "id": "ZGOgaa0hu4Zq",
        "outputId": "588e04fb-154c-4fe2-e86b-d390f9adda3e"
      },
      "execution_count": null,
      "outputs": [
        {
          "output_type": "execute_result",
          "data": {
            "text/plain": [
              "0    2207\n",
              "1     554\n",
              "Name: msc, dtype: int64"
            ]
          },
          "metadata": {},
          "execution_count": 23
        }
      ]
    },
    {
      "cell_type": "code",
      "source": [
        "gmc = GaussianMixture(n_components=6,random_state=123)"
      ],
      "metadata": {
        "id": "j9lxODPcu9pF"
      },
      "execution_count": null,
      "outputs": []
    },
    {
      "cell_type": "code",
      "source": [
        "df['gmc'] = gmc.fit_predict(df_sc)\n",
        "df['gmc'] = df['gmc'].astype('category')"
      ],
      "metadata": {
        "id": "LslCqFH9vk-P"
      },
      "execution_count": null,
      "outputs": []
    },
    {
      "cell_type": "code",
      "source": [
        "df['gmc'].value_counts()"
      ],
      "metadata": {
        "colab": {
          "base_uri": "https://localhost:8080/"
        },
        "id": "sSnJR-KyvuXV",
        "outputId": "5d9df0f2-e7c3-4d1e-cb9c-9da46f0f86c0"
      },
      "execution_count": null,
      "outputs": [
        {
          "output_type": "execute_result",
          "data": {
            "text/plain": [
              "4    553\n",
              "1    552\n",
              "2    552\n",
              "3    552\n",
              "5    305\n",
              "0    247\n",
              "Name: gmc, dtype: int64"
            ]
          },
          "metadata": {},
          "execution_count": 30
        }
      ]
    },
    {
      "cell_type": "code",
      "source": [],
      "metadata": {
        "id": "mfE46Z38v0_P"
      },
      "execution_count": null,
      "outputs": []
    }
  ]
}