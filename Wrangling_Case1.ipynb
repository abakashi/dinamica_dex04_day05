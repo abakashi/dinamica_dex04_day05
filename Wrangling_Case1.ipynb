{
  "nbformat": 4,
  "nbformat_minor": 0,
  "metadata": {
    "colab": {
      "name": "Wrangling_Case1.ipynb",
      "provenance": [],
      "collapsed_sections": [],
      "mount_file_id": "1dCfL5Y86hLuNOcmE6JLHHimusdng-_FM",
      "authorship_tag": "ABX9TyMkzdOfx2LJ/UPda6PvnJ/U",
      "include_colab_link": true
    },
    "kernelspec": {
      "name": "python3",
      "display_name": "Python 3"
    },
    "language_info": {
      "name": "python"
    }
  },
  "cells": [
    {
      "cell_type": "markdown",
      "metadata": {
        "id": "view-in-github",
        "colab_type": "text"
      },
      "source": [
        "<a href=\"https://colab.research.google.com/github/abakashi/dinamicas_dex_days/blob/main/Wrangling_Case1.ipynb\" target=\"_parent\"><img src=\"https://colab.research.google.com/assets/colab-badge.svg\" alt=\"Open In Colab\"/></a>"
      ]
    },
    {
      "cell_type": "code",
      "execution_count": 99,
      "metadata": {
        "id": "9cECao5hLP5v"
      },
      "outputs": [],
      "source": [
        "#Import das bibliotecas\n",
        "import numpy as np\n",
        "import pandas as pd\n",
        "import matplotlib.pyplot as plt\n",
        "import seaborn as sns"
      ]
    },
    {
      "cell_type": "code",
      "source": [
        "#Carregamento dos raw datasets nos dataframes\n",
        "rwdf_churn = pd.read_csv('/content/drive/MyDrive/Datasets/wranglingcase1/churn.csv', dtype={'employee': int, 'numVotes': int, 'stillExists': bool})\n",
        "rwdf_votes = pd.read_csv('/content/drive/MyDrive/Datasets/wranglingcase1/votes.csv')\n",
        "rwdf_cmm_int = pd.read_csv('/content/drive/MyDrive/Datasets/wranglingcase1/commentInteractions.csv', dtype={'employee': int, 'liked': int, 'disliked': int})\n",
        "rwdf_cmm_clean = pd.read_csv('/content/drive/MyDrive/Datasets/wranglingcase1/comments_clean_anonimized.csv')"
      ],
      "metadata": {
        "id": "eeO2cV0gLkqO"
      },
      "execution_count": 100,
      "outputs": []
    },
    {
      "cell_type": "code",
      "source": [
        "#Começando o estudo do Churn\n",
        "\n",
        "# Criando uma função para colocar as datas num formato mais palatável.\n",
        "def time_formatter(series):\n",
        "  dates = list(series)\n",
        "  tmz = list()\n",
        "  dts = list()\n",
        "\n",
        "  for date in dates:\n",
        "    if date[-7] == 'S':\n",
        "      day = date[8:10]\n",
        "      mon = date[4:7]\n",
        "      yr = date[-4:]\n",
        "      time = date[11:19]\n",
        "      dts.append(f'{day}/{mon}/{yr} - {time}')\n",
        "      tmz.append('CEST')\n",
        "    else:\n",
        "      day = date[8:10]\n",
        "      mon = date[4:7]\n",
        "      yr = date[-4:]\n",
        "      time = date[11:19]\n",
        "      dts.append(f'{day}/{mon}/{yr} - {time}')\n",
        "      tmz.append('CET')\n",
        "  return (pd.Series(dts),pd.Series(tmz))\n",
        "\n",
        "#criando um novo dataset vazio\n",
        "rwdf_churn_date_form = pd.DataFrame()\n",
        "\n",
        "#implementando as duas colunas referentes à data\n",
        "rwdf_churn_date_form['LPDate_formated'], rwdf_churn_date_form['LPDate_tmz'] = time_formatter(rwdf_churn['lastParticipationDate'])\n",
        "\n",
        "#convertendo a coluna para o formato datetime.\n",
        "rwdf_churn_date_form['LPDate_formated'] = pd.to_datetime(rwdf_churn_date_form['LPDate_formated'], format='%d/%b/%Y -  %H:%M:%S')\n",
        "\n",
        "#criando as demais colunas no novo dataset\n",
        "rwdf_churn_date_form['employee'], rwdf_churn_date_form['com_alias'], rwdf_churn_date_form['votes'], rwdf_churn_date_form['still_exists']  = rwdf_churn['employee'], rwdf_churn['companyAlias'], rwdf_churn['numVotes'], rwdf_churn['stillExists']\n",
        "\n",
        "#adicionando + uma hora de delta nos timezones CEST (horario de verão europeu)\n",
        "rwdf_churn_date_form.loc[rwdf_churn_date_form['LPDate_tmz'] == 'CEST', 'LPDate_formated'] = rwdf_churn_date_form['LPDate_formated'] + pd.Timedelta('1 hour')\n",
        "\n",
        "#associando o conjunto novo com o antigo\n",
        "rwdf_churn = rwdf_churn_date_form"
      ],
      "metadata": {
        "id": "_r-OGQhtLuX7"
      },
      "execution_count": 101,
      "outputs": []
    },
    {
      "cell_type": "code",
      "source": [
        "#checando por valores nulos\n",
        "rwdf_churn.isna().sum()\n",
        "#nenhum valor nulo\n",
        "\n",
        "#checando valores duplicados\n",
        "rwdf_churn.duplicated().sum()\n",
        "#sem linhas duplicadas\n",
        "\n",
        "rwdf_churn.info()"
      ],
      "metadata": {
        "colab": {
          "base_uri": "https://localhost:8080/"
        },
        "id": "_bX2UPvbXmkW",
        "outputId": "fd0a440d-5633-43b0-8d66-31e987bd44e2"
      },
      "execution_count": 102,
      "outputs": [
        {
          "output_type": "stream",
          "name": "stdout",
          "text": [
            "<class 'pandas.core.frame.DataFrame'>\n",
            "RangeIndex: 4847 entries, 0 to 4846\n",
            "Data columns (total 6 columns):\n",
            " #   Column           Non-Null Count  Dtype         \n",
            "---  ------           --------------  -----         \n",
            " 0   LPDate_formated  4847 non-null   datetime64[ns]\n",
            " 1   LPDate_tmz       4847 non-null   object        \n",
            " 2   employee         4847 non-null   int64         \n",
            " 3   com_alias        4847 non-null   object        \n",
            " 4   votes            4847 non-null   int64         \n",
            " 5   still_exists     4847 non-null   bool          \n",
            "dtypes: bool(1), datetime64[ns](1), int64(2), object(2)\n",
            "memory usage: 194.2+ KB\n"
          ]
        }
      ]
    },
    {
      "cell_type": "code",
      "source": [
        "#Analisando o conjunto votes\n",
        "\n",
        "#Aplicando a time_formatter nas datas\n",
        "rwdf_votes['vDate_form'], rwdf_votes['vDate_tmz'] = time_formatter(rwdf_votes['voteDate'])\n",
        "\n",
        "#convertendo para formato datetime\n",
        "rwdf_votes['vDate_form'] = pd.to_datetime(rwdf_votes['vDate_form'], format='%d/%b/%Y -  %H:%M:%S')\n",
        "\n",
        "#adicionando mais uma hora nos horários em horário de verão\n",
        "rwdf_votes.loc[rwdf_votes['vDate_tmz'] == 'CEST', 'vDate_form'] = rwdf_votes['vDate_form'] + pd.Timedelta('1 hour')\n",
        "\n",
        "#apagando a coluna de data antiga\n",
        "rwdf_votes.drop('voteDate', axis=1, inplace=True)"
      ],
      "metadata": {
        "id": "Z53HPSvAnqju"
      },
      "execution_count": 103,
      "outputs": []
    },
    {
      "cell_type": "code",
      "source": [
        "#Verificando valores nulos: Sem valores nulos\n",
        "rwdf_votes.isna().sum()\n",
        "\n",
        "#Verificando linhas duplicadas: 87 Linhas duplicadas encontradas.\n",
        "rwdf_votes.duplicated().sum()\n",
        "\n",
        "rwdf_votes = rwdf_votes[~rwdf_votes.duplicated()]\n",
        "\n",
        "#Linhas duplicadas eliminadas.\n",
        "rwdf_votes.duplicated().sum()"
      ],
      "metadata": {
        "colab": {
          "base_uri": "https://localhost:8080/"
        },
        "id": "KRtuUmixprAR",
        "outputId": "c175a167-cd09-4c11-d657-c8859639bcc7"
      },
      "execution_count": 104,
      "outputs": [
        {
          "output_type": "execute_result",
          "data": {
            "text/plain": [
              "0"
            ]
          },
          "metadata": {},
          "execution_count": 104
        }
      ]
    },
    {
      "cell_type": "code",
      "source": [
        "#verificando o conjunto de c interações de comentários\n",
        "\n",
        "#verificando valores nulos: valores nulos encontrados na ultima linha do conjunto\n",
        "rwdf_cmm_int.isna().sum()\n",
        "\n",
        "#Eliminando a ultima linha por não ser significante.\n",
        "rwdf_cmm_int.drop(336959, axis=0, inplace=True)"
      ],
      "metadata": {
        "id": "4ZR0OKVFuVkd"
      },
      "execution_count": 105,
      "outputs": []
    },
    {
      "cell_type": "code",
      "source": [
        "#Convertendo colunas liked e disliked para booleano.\n",
        "rwdf_cmm_int = rwdf_cmm_int.astype({'liked': int, 'disliked': int})\n",
        "\n",
        "#verificando de as colunas liked e disliked são realmente redundantes.\n",
        "\n",
        "lik_dis = zip(tuple(rwdf_cmm_int['liked']), tuple(rwdf_cmm_int['disliked']))\n",
        "\n",
        "for ocrr in tuple(lik_dis):\n",
        "  if ocrr == (0, 0) or ocrr == (1, 1):\n",
        "    print(False)\n",
        "#As colunas são mesmo redundantes"
      ],
      "metadata": {
        "id": "L1Fxla2VymFA"
      },
      "execution_count": 106,
      "outputs": []
    },
    {
      "cell_type": "code",
      "source": [
        "#Removendo a coluna disliked\n",
        "rwdf_cmm_int.drop('disliked', axis=1, inplace=True)"
      ],
      "metadata": {
        "id": "Zx2trBBP11G0"
      },
      "execution_count": 107,
      "outputs": []
    },
    {
      "cell_type": "code",
      "source": [
        "rwdf_cmm_int.info()"
      ],
      "metadata": {
        "colab": {
          "base_uri": "https://localhost:8080/"
        },
        "id": "sA25E2m-2Eu4",
        "outputId": "30c5f97a-2203-4d59-c9a9-f422f7041711"
      },
      "execution_count": 108,
      "outputs": [
        {
          "output_type": "stream",
          "name": "stdout",
          "text": [
            "<class 'pandas.core.frame.DataFrame'>\n",
            "Int64Index: 336959 entries, 0 to 336958\n",
            "Data columns (total 4 columns):\n",
            " #   Column        Non-Null Count   Dtype \n",
            "---  ------        --------------   ----- \n",
            " 0   employee      336959 non-null  int64 \n",
            " 1   companyAlias  336959 non-null  object\n",
            " 2   liked         336959 non-null  int64 \n",
            " 3   commentId     336959 non-null  object\n",
            "dtypes: int64(2), object(2)\n",
            "memory usage: 12.9+ MB\n"
          ]
        }
      ]
    },
    {
      "cell_type": "code",
      "source": [
        "#verificando comments clean annotations\n",
        "\n",
        "#removendo ultima linha que continha maior parte dos atributos nulos\n",
        "rwdf_cmm_clean.drop(82755, axis=0, inplace=True)"
      ],
      "metadata": {
        "id": "sEFsdgV9osm3"
      },
      "execution_count": 109,
      "outputs": []
    },
    {
      "cell_type": "code",
      "source": [
        "#Convertendo Likes e Dislikes para int\n",
        "rwdf_cmm_clean = rwdf_cmm_clean.astype({'likes':int, 'dislikes':int})\n",
        "\n",
        "\n",
        "#verificando se há valores nulos restantes. 216 valores nulos na coluna TXT\n",
        "rwdf_cmm_clean.isna().sum()\n",
        "\n",
        "#verificando registros onde a coluna txt é nula.\n",
        "rwdf_cmm_clean[rwdf_cmm_clean.txt.isna()]\n",
        "\n",
        "#coluna txt não tem informações úteis para o dataset.\n",
        "#portanto será apagada.\n",
        "rwdf_cmm_clean.drop('txt', axis=1, inplace=True)"
      ],
      "metadata": {
        "id": "yqexE9krtBX8"
      },
      "execution_count": 110,
      "outputs": []
    },
    {
      "cell_type": "code",
      "source": [
        "#Criando as duas colunas com data formatada.\n",
        "rwdf_cmm_clean['cDate_formated'], rwdf_cmm_clean['cDate_tmz'] = time_formatter(rwdf_cmm_clean['commentDate'])"
      ],
      "metadata": {
        "id": "OFmNWi7Uv1T2"
      },
      "execution_count": 111,
      "outputs": []
    },
    {
      "cell_type": "code",
      "source": [
        "#apagando a coluna de data antiga\n",
        "rwdf_cmm_clean.drop('commentDate', axis=1, inplace=True)"
      ],
      "metadata": {
        "id": "UH_0jO5GwTjd"
      },
      "execution_count": 112,
      "outputs": []
    },
    {
      "cell_type": "code",
      "source": [
        "#convertendo cDate_formated para datetime\n",
        "rwdf_cmm_clean['cDate_formated'] = pd.to_datetime(rwdf_cmm_clean['cDate_formated'], format='%d/%b/%Y -  %H:%M:%S')\n",
        "#Adicionando uma hora as datas que estejam em horario de verão.\n",
        "rwdf_cmm_clean.loc[rwdf_cmm_clean['cDate_tmz'] == 'CEST', 'cDate_formated'] = rwdf_cmm_clean['cDate_formated'] + pd.Timedelta('1 hour')"
      ],
      "metadata": {
        "id": "UFYIzSbFwru4"
      },
      "execution_count": 113,
      "outputs": []
    },
    {
      "cell_type": "code",
      "source": [
        "rwdf_cmm_clean"
      ],
      "metadata": {
        "colab": {
          "base_uri": "https://localhost:8080/",
          "height": 424
        },
        "id": "b-IYwTNDxGw5",
        "outputId": "3232467b-5bf0-49e9-9a43-3d2911b21147"
      },
      "execution_count": 114,
      "outputs": [
        {
          "output_type": "execute_result",
          "data": {
            "text/plain": [
              "       employee              companyAlias                 commentId  likes  \\\n",
              "0           307  56aec740f1ef260003e307d6  58d018d7e010990004e38070      4   \n",
              "1           382  56aec740f1ef260003e307d6  58d0179ae010990004e3806d      1   \n",
              "2           172  56aec740f1ef260003e307d6  58cff8cde010990004e37f6a      3   \n",
              "3           135  56aec740f1ef260003e307d6  58cfefeee010990004e37f60      1   \n",
              "4           225  56aec740f1ef260003e307d6  58cfd9b4e010990004e37f52      3   \n",
              "...         ...                       ...                       ...    ...   \n",
              "82750       -45  58a728a0e75bda00042a3468  58ae91eb9fd38f00045eeeea      3   \n",
              "82751       118  58a728a0e75bda00042a3468  58ae85a69fd38f00045eeee4      1   \n",
              "82752       -10  58a728a0e75bda00042a3468  58ae7fa19fd38f00045eeee2      2   \n",
              "82753        -8  58a728a0e75bda00042a3468  58adbfcbb8242400048bf8c1      5   \n",
              "82754        64  58a728a0e75bda00042a3468  58adba78b8242400048bf8b5      3   \n",
              "\n",
              "       dislikes      cDate_formated cDate_tmz  \n",
              "0             0 2017-03-20 19:00:17       CET  \n",
              "1             2 2017-03-20 18:55:16       CET  \n",
              "2             0 2017-03-20 16:44:02       CET  \n",
              "3             1 2017-03-20 16:06:08       CET  \n",
              "4             2 2017-03-20 14:30:50       CET  \n",
              "...         ...                 ...       ...  \n",
              "82750         1 2017-02-23 08:39:59       CET  \n",
              "82751         0 2017-02-23 07:44:48       CET  \n",
              "82752         0 2017-02-23 07:22:12       CET  \n",
              "82753         0 2017-02-22 17:43:39       CET  \n",
              "82754         0 2017-02-22 17:20:07       CET  \n",
              "\n",
              "[82755 rows x 7 columns]"
            ],
            "text/html": [
              "\n",
              "  <div id=\"df-35597bd6-2e2e-424a-a2c5-0cde201300cf\">\n",
              "    <div class=\"colab-df-container\">\n",
              "      <div>\n",
              "<style scoped>\n",
              "    .dataframe tbody tr th:only-of-type {\n",
              "        vertical-align: middle;\n",
              "    }\n",
              "\n",
              "    .dataframe tbody tr th {\n",
              "        vertical-align: top;\n",
              "    }\n",
              "\n",
              "    .dataframe thead th {\n",
              "        text-align: right;\n",
              "    }\n",
              "</style>\n",
              "<table border=\"1\" class=\"dataframe\">\n",
              "  <thead>\n",
              "    <tr style=\"text-align: right;\">\n",
              "      <th></th>\n",
              "      <th>employee</th>\n",
              "      <th>companyAlias</th>\n",
              "      <th>commentId</th>\n",
              "      <th>likes</th>\n",
              "      <th>dislikes</th>\n",
              "      <th>cDate_formated</th>\n",
              "      <th>cDate_tmz</th>\n",
              "    </tr>\n",
              "  </thead>\n",
              "  <tbody>\n",
              "    <tr>\n",
              "      <th>0</th>\n",
              "      <td>307</td>\n",
              "      <td>56aec740f1ef260003e307d6</td>\n",
              "      <td>58d018d7e010990004e38070</td>\n",
              "      <td>4</td>\n",
              "      <td>0</td>\n",
              "      <td>2017-03-20 19:00:17</td>\n",
              "      <td>CET</td>\n",
              "    </tr>\n",
              "    <tr>\n",
              "      <th>1</th>\n",
              "      <td>382</td>\n",
              "      <td>56aec740f1ef260003e307d6</td>\n",
              "      <td>58d0179ae010990004e3806d</td>\n",
              "      <td>1</td>\n",
              "      <td>2</td>\n",
              "      <td>2017-03-20 18:55:16</td>\n",
              "      <td>CET</td>\n",
              "    </tr>\n",
              "    <tr>\n",
              "      <th>2</th>\n",
              "      <td>172</td>\n",
              "      <td>56aec740f1ef260003e307d6</td>\n",
              "      <td>58cff8cde010990004e37f6a</td>\n",
              "      <td>3</td>\n",
              "      <td>0</td>\n",
              "      <td>2017-03-20 16:44:02</td>\n",
              "      <td>CET</td>\n",
              "    </tr>\n",
              "    <tr>\n",
              "      <th>3</th>\n",
              "      <td>135</td>\n",
              "      <td>56aec740f1ef260003e307d6</td>\n",
              "      <td>58cfefeee010990004e37f60</td>\n",
              "      <td>1</td>\n",
              "      <td>1</td>\n",
              "      <td>2017-03-20 16:06:08</td>\n",
              "      <td>CET</td>\n",
              "    </tr>\n",
              "    <tr>\n",
              "      <th>4</th>\n",
              "      <td>225</td>\n",
              "      <td>56aec740f1ef260003e307d6</td>\n",
              "      <td>58cfd9b4e010990004e37f52</td>\n",
              "      <td>3</td>\n",
              "      <td>2</td>\n",
              "      <td>2017-03-20 14:30:50</td>\n",
              "      <td>CET</td>\n",
              "    </tr>\n",
              "    <tr>\n",
              "      <th>...</th>\n",
              "      <td>...</td>\n",
              "      <td>...</td>\n",
              "      <td>...</td>\n",
              "      <td>...</td>\n",
              "      <td>...</td>\n",
              "      <td>...</td>\n",
              "      <td>...</td>\n",
              "    </tr>\n",
              "    <tr>\n",
              "      <th>82750</th>\n",
              "      <td>-45</td>\n",
              "      <td>58a728a0e75bda00042a3468</td>\n",
              "      <td>58ae91eb9fd38f00045eeeea</td>\n",
              "      <td>3</td>\n",
              "      <td>1</td>\n",
              "      <td>2017-02-23 08:39:59</td>\n",
              "      <td>CET</td>\n",
              "    </tr>\n",
              "    <tr>\n",
              "      <th>82751</th>\n",
              "      <td>118</td>\n",
              "      <td>58a728a0e75bda00042a3468</td>\n",
              "      <td>58ae85a69fd38f00045eeee4</td>\n",
              "      <td>1</td>\n",
              "      <td>0</td>\n",
              "      <td>2017-02-23 07:44:48</td>\n",
              "      <td>CET</td>\n",
              "    </tr>\n",
              "    <tr>\n",
              "      <th>82752</th>\n",
              "      <td>-10</td>\n",
              "      <td>58a728a0e75bda00042a3468</td>\n",
              "      <td>58ae7fa19fd38f00045eeee2</td>\n",
              "      <td>2</td>\n",
              "      <td>0</td>\n",
              "      <td>2017-02-23 07:22:12</td>\n",
              "      <td>CET</td>\n",
              "    </tr>\n",
              "    <tr>\n",
              "      <th>82753</th>\n",
              "      <td>-8</td>\n",
              "      <td>58a728a0e75bda00042a3468</td>\n",
              "      <td>58adbfcbb8242400048bf8c1</td>\n",
              "      <td>5</td>\n",
              "      <td>0</td>\n",
              "      <td>2017-02-22 17:43:39</td>\n",
              "      <td>CET</td>\n",
              "    </tr>\n",
              "    <tr>\n",
              "      <th>82754</th>\n",
              "      <td>64</td>\n",
              "      <td>58a728a0e75bda00042a3468</td>\n",
              "      <td>58adba78b8242400048bf8b5</td>\n",
              "      <td>3</td>\n",
              "      <td>0</td>\n",
              "      <td>2017-02-22 17:20:07</td>\n",
              "      <td>CET</td>\n",
              "    </tr>\n",
              "  </tbody>\n",
              "</table>\n",
              "<p>82755 rows × 7 columns</p>\n",
              "</div>\n",
              "      <button class=\"colab-df-convert\" onclick=\"convertToInteractive('df-35597bd6-2e2e-424a-a2c5-0cde201300cf')\"\n",
              "              title=\"Convert this dataframe to an interactive table.\"\n",
              "              style=\"display:none;\">\n",
              "        \n",
              "  <svg xmlns=\"http://www.w3.org/2000/svg\" height=\"24px\"viewBox=\"0 0 24 24\"\n",
              "       width=\"24px\">\n",
              "    <path d=\"M0 0h24v24H0V0z\" fill=\"none\"/>\n",
              "    <path d=\"M18.56 5.44l.94 2.06.94-2.06 2.06-.94-2.06-.94-.94-2.06-.94 2.06-2.06.94zm-11 1L8.5 8.5l.94-2.06 2.06-.94-2.06-.94L8.5 2.5l-.94 2.06-2.06.94zm10 10l.94 2.06.94-2.06 2.06-.94-2.06-.94-.94-2.06-.94 2.06-2.06.94z\"/><path d=\"M17.41 7.96l-1.37-1.37c-.4-.4-.92-.59-1.43-.59-.52 0-1.04.2-1.43.59L10.3 9.45l-7.72 7.72c-.78.78-.78 2.05 0 2.83L4 21.41c.39.39.9.59 1.41.59.51 0 1.02-.2 1.41-.59l7.78-7.78 2.81-2.81c.8-.78.8-2.07 0-2.86zM5.41 20L4 18.59l7.72-7.72 1.47 1.35L5.41 20z\"/>\n",
              "  </svg>\n",
              "      </button>\n",
              "      \n",
              "  <style>\n",
              "    .colab-df-container {\n",
              "      display:flex;\n",
              "      flex-wrap:wrap;\n",
              "      gap: 12px;\n",
              "    }\n",
              "\n",
              "    .colab-df-convert {\n",
              "      background-color: #E8F0FE;\n",
              "      border: none;\n",
              "      border-radius: 50%;\n",
              "      cursor: pointer;\n",
              "      display: none;\n",
              "      fill: #1967D2;\n",
              "      height: 32px;\n",
              "      padding: 0 0 0 0;\n",
              "      width: 32px;\n",
              "    }\n",
              "\n",
              "    .colab-df-convert:hover {\n",
              "      background-color: #E2EBFA;\n",
              "      box-shadow: 0px 1px 2px rgba(60, 64, 67, 0.3), 0px 1px 3px 1px rgba(60, 64, 67, 0.15);\n",
              "      fill: #174EA6;\n",
              "    }\n",
              "\n",
              "    [theme=dark] .colab-df-convert {\n",
              "      background-color: #3B4455;\n",
              "      fill: #D2E3FC;\n",
              "    }\n",
              "\n",
              "    [theme=dark] .colab-df-convert:hover {\n",
              "      background-color: #434B5C;\n",
              "      box-shadow: 0px 1px 3px 1px rgba(0, 0, 0, 0.15);\n",
              "      filter: drop-shadow(0px 1px 2px rgba(0, 0, 0, 0.3));\n",
              "      fill: #FFFFFF;\n",
              "    }\n",
              "  </style>\n",
              "\n",
              "      <script>\n",
              "        const buttonEl =\n",
              "          document.querySelector('#df-35597bd6-2e2e-424a-a2c5-0cde201300cf button.colab-df-convert');\n",
              "        buttonEl.style.display =\n",
              "          google.colab.kernel.accessAllowed ? 'block' : 'none';\n",
              "\n",
              "        async function convertToInteractive(key) {\n",
              "          const element = document.querySelector('#df-35597bd6-2e2e-424a-a2c5-0cde201300cf');\n",
              "          const dataTable =\n",
              "            await google.colab.kernel.invokeFunction('convertToInteractive',\n",
              "                                                     [key], {});\n",
              "          if (!dataTable) return;\n",
              "\n",
              "          const docLinkHtml = 'Like what you see? Visit the ' +\n",
              "            '<a target=\"_blank\" href=https://colab.research.google.com/notebooks/data_table.ipynb>data table notebook</a>'\n",
              "            + ' to learn more about interactive tables.';\n",
              "          element.innerHTML = '';\n",
              "          dataTable['output_type'] = 'display_data';\n",
              "          await google.colab.output.renderOutput(dataTable, element);\n",
              "          const docLink = document.createElement('div');\n",
              "          docLink.innerHTML = docLinkHtml;\n",
              "          element.appendChild(docLink);\n",
              "        }\n",
              "      </script>\n",
              "    </div>\n",
              "  </div>\n",
              "  "
            ]
          },
          "metadata": {},
          "execution_count": 114
        }
      ]
    }
  ]
}