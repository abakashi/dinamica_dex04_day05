{
  "nbformat": 4,
  "nbformat_minor": 0,
  "metadata": {
    "colab": {
      "name": "Exercicio2_reg_linear.ipynb",
      "provenance": [],
      "collapsed_sections": [],
      "include_colab_link": true
    },
    "kernelspec": {
      "name": "python3",
      "display_name": "Python 3"
    },
    "language_info": {
      "name": "python"
    }
  },
  "cells": [
    {
      "cell_type": "markdown",
      "metadata": {
        "id": "view-in-github",
        "colab_type": "text"
      },
      "source": [
        "<a href=\"https://colab.research.google.com/github/cruz-marco/dex_files/blob/main/Exercicio2_reg_linear.ipynb\" target=\"_parent\"><img src=\"https://colab.research.google.com/assets/colab-badge.svg\" alt=\"Open In Colab\"/></a>"
      ]
    },
    {
      "cell_type": "markdown",
      "metadata": {
        "id": "vYfiFt_n-tBh"
      },
      "source": [
        "**Obs: faça uma cópia deste colab para sua resolução"
      ]
    },
    {
      "cell_type": "code",
      "source": [
        ""
      ],
      "metadata": {
        "id": "soareEr8pa1P"
      },
      "execution_count": 98,
      "outputs": []
    },
    {
      "cell_type": "markdown",
      "metadata": {
        "id": "95EZpxMaZlt3"
      },
      "source": [
        "# 2 - Regressao Linear Categórica\n",
        "\n",
        "O dataset de hoje é o [Price Car](https://github.com/rmadan16/LinearRegression_CarPrice). Um dataset disponibilizado por [Rohit Madan](https://medium.com/@madanflies/linear-regression-on-carprice-dataset-or-encoding-a-categorical-dataset-in-linear-regression-7378f207e5c1). Para importar ele, basta utilizar o link: https://raw.githubusercontent.com/rmadan16/LinearRegression_CarPrice/master/CarPrice_Assignment.csv' ou baixar o csv e fazer o upload no colab.\n",
        "\n",
        "Ele contém a informação sobre a venda de carros usados e informações do carro como:\n",
        "- Nome do carro\n",
        "- Tipo de Combustível\n",
        "- Número de portas\n",
        "- Comprimento / Largura / Altura\n",
        "- Outros variáveis\n",
        "- Preço de venda\n",
        "\n",
        "Nesse exercício você deverá aplicar o conceito de transformação categórica na coluna de **carbody** e desenvolver um modelo de Regressão Linear e avaliar seu desempenho."
      ]
    },
    {
      "cell_type": "markdown",
      "metadata": {
        "id": "wh7izWzIiNgf"
      },
      "source": [
        "## 2 - 0 Importação da bibliotecas"
      ]
    },
    {
      "cell_type": "code",
      "source": [
        "import pandas as pd\n",
        "import matplotlib.pyplot as plt\n",
        "import seaborn as sns\n",
        "import numpy as np\n",
        "from sklearn.metrics import r2_score, mean_squared_error\n",
        "from sklearn.model_selection import train_test_split\n",
        "from sklearn.linear_model import LinearRegression"
      ],
      "metadata": {
        "id": "bYQuzfeNhSEd"
      },
      "execution_count": 99,
      "outputs": []
    },
    {
      "cell_type": "markdown",
      "metadata": {
        "id": "bmImrJFmioKY"
      },
      "source": [
        "## 2 - 1 Criação do DataFrame filtragem da coluna [carbody, price]"
      ]
    },
    {
      "cell_type": "code",
      "source": [
        "df = pd.read_csv('https://raw.githubusercontent.com/rmadan16/LinearRegression_CarPrice/master/CarPrice_Assignment.csv')\n",
        "\n",
        "df.head()"
      ],
      "metadata": {
        "colab": {
          "base_uri": "https://localhost:8080/",
          "height": 352
        },
        "id": "lzsbNFTxheo3",
        "outputId": "31d4a5a0-9969-43da-b3b8-eba55ef08925"
      },
      "execution_count": 100,
      "outputs": [
        {
          "output_type": "execute_result",
          "data": {
            "text/plain": [
              "   car_ID  symboling                   CarName fueltype aspiration doornumber  \\\n",
              "0       1          3        alfa-romero giulia      gas        std        two   \n",
              "1       2          3       alfa-romero stelvio      gas        std        two   \n",
              "2       3          1  alfa-romero Quadrifoglio      gas        std        two   \n",
              "3       4          2               audi 100 ls      gas        std       four   \n",
              "4       5          2                audi 100ls      gas        std       four   \n",
              "\n",
              "       carbody drivewheel enginelocation  wheelbase  ...  enginesize  \\\n",
              "0  convertible        rwd          front       88.6  ...         130   \n",
              "1  convertible        rwd          front       88.6  ...         130   \n",
              "2    hatchback        rwd          front       94.5  ...         152   \n",
              "3        sedan        fwd          front       99.8  ...         109   \n",
              "4        sedan        4wd          front       99.4  ...         136   \n",
              "\n",
              "   fuelsystem  boreratio  stroke compressionratio horsepower  peakrpm citympg  \\\n",
              "0        mpfi       3.47    2.68              9.0        111     5000      21   \n",
              "1        mpfi       3.47    2.68              9.0        111     5000      21   \n",
              "2        mpfi       2.68    3.47              9.0        154     5000      19   \n",
              "3        mpfi       3.19    3.40             10.0        102     5500      24   \n",
              "4        mpfi       3.19    3.40              8.0        115     5500      18   \n",
              "\n",
              "   highwaympg    price  \n",
              "0          27  13495.0  \n",
              "1          27  16500.0  \n",
              "2          26  16500.0  \n",
              "3          30  13950.0  \n",
              "4          22  17450.0  \n",
              "\n",
              "[5 rows x 26 columns]"
            ],
            "text/html": [
              "\n",
              "  <div id=\"df-5750186a-3f6b-4f60-9f22-329f7801c237\">\n",
              "    <div class=\"colab-df-container\">\n",
              "      <div>\n",
              "<style scoped>\n",
              "    .dataframe tbody tr th:only-of-type {\n",
              "        vertical-align: middle;\n",
              "    }\n",
              "\n",
              "    .dataframe tbody tr th {\n",
              "        vertical-align: top;\n",
              "    }\n",
              "\n",
              "    .dataframe thead th {\n",
              "        text-align: right;\n",
              "    }\n",
              "</style>\n",
              "<table border=\"1\" class=\"dataframe\">\n",
              "  <thead>\n",
              "    <tr style=\"text-align: right;\">\n",
              "      <th></th>\n",
              "      <th>car_ID</th>\n",
              "      <th>symboling</th>\n",
              "      <th>CarName</th>\n",
              "      <th>fueltype</th>\n",
              "      <th>aspiration</th>\n",
              "      <th>doornumber</th>\n",
              "      <th>carbody</th>\n",
              "      <th>drivewheel</th>\n",
              "      <th>enginelocation</th>\n",
              "      <th>wheelbase</th>\n",
              "      <th>...</th>\n",
              "      <th>enginesize</th>\n",
              "      <th>fuelsystem</th>\n",
              "      <th>boreratio</th>\n",
              "      <th>stroke</th>\n",
              "      <th>compressionratio</th>\n",
              "      <th>horsepower</th>\n",
              "      <th>peakrpm</th>\n",
              "      <th>citympg</th>\n",
              "      <th>highwaympg</th>\n",
              "      <th>price</th>\n",
              "    </tr>\n",
              "  </thead>\n",
              "  <tbody>\n",
              "    <tr>\n",
              "      <th>0</th>\n",
              "      <td>1</td>\n",
              "      <td>3</td>\n",
              "      <td>alfa-romero giulia</td>\n",
              "      <td>gas</td>\n",
              "      <td>std</td>\n",
              "      <td>two</td>\n",
              "      <td>convertible</td>\n",
              "      <td>rwd</td>\n",
              "      <td>front</td>\n",
              "      <td>88.6</td>\n",
              "      <td>...</td>\n",
              "      <td>130</td>\n",
              "      <td>mpfi</td>\n",
              "      <td>3.47</td>\n",
              "      <td>2.68</td>\n",
              "      <td>9.0</td>\n",
              "      <td>111</td>\n",
              "      <td>5000</td>\n",
              "      <td>21</td>\n",
              "      <td>27</td>\n",
              "      <td>13495.0</td>\n",
              "    </tr>\n",
              "    <tr>\n",
              "      <th>1</th>\n",
              "      <td>2</td>\n",
              "      <td>3</td>\n",
              "      <td>alfa-romero stelvio</td>\n",
              "      <td>gas</td>\n",
              "      <td>std</td>\n",
              "      <td>two</td>\n",
              "      <td>convertible</td>\n",
              "      <td>rwd</td>\n",
              "      <td>front</td>\n",
              "      <td>88.6</td>\n",
              "      <td>...</td>\n",
              "      <td>130</td>\n",
              "      <td>mpfi</td>\n",
              "      <td>3.47</td>\n",
              "      <td>2.68</td>\n",
              "      <td>9.0</td>\n",
              "      <td>111</td>\n",
              "      <td>5000</td>\n",
              "      <td>21</td>\n",
              "      <td>27</td>\n",
              "      <td>16500.0</td>\n",
              "    </tr>\n",
              "    <tr>\n",
              "      <th>2</th>\n",
              "      <td>3</td>\n",
              "      <td>1</td>\n",
              "      <td>alfa-romero Quadrifoglio</td>\n",
              "      <td>gas</td>\n",
              "      <td>std</td>\n",
              "      <td>two</td>\n",
              "      <td>hatchback</td>\n",
              "      <td>rwd</td>\n",
              "      <td>front</td>\n",
              "      <td>94.5</td>\n",
              "      <td>...</td>\n",
              "      <td>152</td>\n",
              "      <td>mpfi</td>\n",
              "      <td>2.68</td>\n",
              "      <td>3.47</td>\n",
              "      <td>9.0</td>\n",
              "      <td>154</td>\n",
              "      <td>5000</td>\n",
              "      <td>19</td>\n",
              "      <td>26</td>\n",
              "      <td>16500.0</td>\n",
              "    </tr>\n",
              "    <tr>\n",
              "      <th>3</th>\n",
              "      <td>4</td>\n",
              "      <td>2</td>\n",
              "      <td>audi 100 ls</td>\n",
              "      <td>gas</td>\n",
              "      <td>std</td>\n",
              "      <td>four</td>\n",
              "      <td>sedan</td>\n",
              "      <td>fwd</td>\n",
              "      <td>front</td>\n",
              "      <td>99.8</td>\n",
              "      <td>...</td>\n",
              "      <td>109</td>\n",
              "      <td>mpfi</td>\n",
              "      <td>3.19</td>\n",
              "      <td>3.40</td>\n",
              "      <td>10.0</td>\n",
              "      <td>102</td>\n",
              "      <td>5500</td>\n",
              "      <td>24</td>\n",
              "      <td>30</td>\n",
              "      <td>13950.0</td>\n",
              "    </tr>\n",
              "    <tr>\n",
              "      <th>4</th>\n",
              "      <td>5</td>\n",
              "      <td>2</td>\n",
              "      <td>audi 100ls</td>\n",
              "      <td>gas</td>\n",
              "      <td>std</td>\n",
              "      <td>four</td>\n",
              "      <td>sedan</td>\n",
              "      <td>4wd</td>\n",
              "      <td>front</td>\n",
              "      <td>99.4</td>\n",
              "      <td>...</td>\n",
              "      <td>136</td>\n",
              "      <td>mpfi</td>\n",
              "      <td>3.19</td>\n",
              "      <td>3.40</td>\n",
              "      <td>8.0</td>\n",
              "      <td>115</td>\n",
              "      <td>5500</td>\n",
              "      <td>18</td>\n",
              "      <td>22</td>\n",
              "      <td>17450.0</td>\n",
              "    </tr>\n",
              "  </tbody>\n",
              "</table>\n",
              "<p>5 rows × 26 columns</p>\n",
              "</div>\n",
              "      <button class=\"colab-df-convert\" onclick=\"convertToInteractive('df-5750186a-3f6b-4f60-9f22-329f7801c237')\"\n",
              "              title=\"Convert this dataframe to an interactive table.\"\n",
              "              style=\"display:none;\">\n",
              "        \n",
              "  <svg xmlns=\"http://www.w3.org/2000/svg\" height=\"24px\"viewBox=\"0 0 24 24\"\n",
              "       width=\"24px\">\n",
              "    <path d=\"M0 0h24v24H0V0z\" fill=\"none\"/>\n",
              "    <path d=\"M18.56 5.44l.94 2.06.94-2.06 2.06-.94-2.06-.94-.94-2.06-.94 2.06-2.06.94zm-11 1L8.5 8.5l.94-2.06 2.06-.94-2.06-.94L8.5 2.5l-.94 2.06-2.06.94zm10 10l.94 2.06.94-2.06 2.06-.94-2.06-.94-.94-2.06-.94 2.06-2.06.94z\"/><path d=\"M17.41 7.96l-1.37-1.37c-.4-.4-.92-.59-1.43-.59-.52 0-1.04.2-1.43.59L10.3 9.45l-7.72 7.72c-.78.78-.78 2.05 0 2.83L4 21.41c.39.39.9.59 1.41.59.51 0 1.02-.2 1.41-.59l7.78-7.78 2.81-2.81c.8-.78.8-2.07 0-2.86zM5.41 20L4 18.59l7.72-7.72 1.47 1.35L5.41 20z\"/>\n",
              "  </svg>\n",
              "      </button>\n",
              "      \n",
              "  <style>\n",
              "    .colab-df-container {\n",
              "      display:flex;\n",
              "      flex-wrap:wrap;\n",
              "      gap: 12px;\n",
              "    }\n",
              "\n",
              "    .colab-df-convert {\n",
              "      background-color: #E8F0FE;\n",
              "      border: none;\n",
              "      border-radius: 50%;\n",
              "      cursor: pointer;\n",
              "      display: none;\n",
              "      fill: #1967D2;\n",
              "      height: 32px;\n",
              "      padding: 0 0 0 0;\n",
              "      width: 32px;\n",
              "    }\n",
              "\n",
              "    .colab-df-convert:hover {\n",
              "      background-color: #E2EBFA;\n",
              "      box-shadow: 0px 1px 2px rgba(60, 64, 67, 0.3), 0px 1px 3px 1px rgba(60, 64, 67, 0.15);\n",
              "      fill: #174EA6;\n",
              "    }\n",
              "\n",
              "    [theme=dark] .colab-df-convert {\n",
              "      background-color: #3B4455;\n",
              "      fill: #D2E3FC;\n",
              "    }\n",
              "\n",
              "    [theme=dark] .colab-df-convert:hover {\n",
              "      background-color: #434B5C;\n",
              "      box-shadow: 0px 1px 3px 1px rgba(0, 0, 0, 0.15);\n",
              "      filter: drop-shadow(0px 1px 2px rgba(0, 0, 0, 0.3));\n",
              "      fill: #FFFFFF;\n",
              "    }\n",
              "  </style>\n",
              "\n",
              "      <script>\n",
              "        const buttonEl =\n",
              "          document.querySelector('#df-5750186a-3f6b-4f60-9f22-329f7801c237 button.colab-df-convert');\n",
              "        buttonEl.style.display =\n",
              "          google.colab.kernel.accessAllowed ? 'block' : 'none';\n",
              "\n",
              "        async function convertToInteractive(key) {\n",
              "          const element = document.querySelector('#df-5750186a-3f6b-4f60-9f22-329f7801c237');\n",
              "          const dataTable =\n",
              "            await google.colab.kernel.invokeFunction('convertToInteractive',\n",
              "                                                     [key], {});\n",
              "          if (!dataTable) return;\n",
              "\n",
              "          const docLinkHtml = 'Like what you see? Visit the ' +\n",
              "            '<a target=\"_blank\" href=https://colab.research.google.com/notebooks/data_table.ipynb>data table notebook</a>'\n",
              "            + ' to learn more about interactive tables.';\n",
              "          element.innerHTML = '';\n",
              "          dataTable['output_type'] = 'display_data';\n",
              "          await google.colab.output.renderOutput(dataTable, element);\n",
              "          const docLink = document.createElement('div');\n",
              "          docLink.innerHTML = docLinkHtml;\n",
              "          element.appendChild(docLink);\n",
              "        }\n",
              "      </script>\n",
              "    </div>\n",
              "  </div>\n",
              "  "
            ]
          },
          "metadata": {},
          "execution_count": 100
        }
      ]
    },
    {
      "cell_type": "code",
      "source": [
        "df.info()"
      ],
      "metadata": {
        "colab": {
          "base_uri": "https://localhost:8080/"
        },
        "id": "cwVat8s8iLeO",
        "outputId": "414ccf37-ddc8-4323-8997-2e6b51f6fe0a"
      },
      "execution_count": 101,
      "outputs": [
        {
          "output_type": "stream",
          "name": "stdout",
          "text": [
            "<class 'pandas.core.frame.DataFrame'>\n",
            "RangeIndex: 205 entries, 0 to 204\n",
            "Data columns (total 26 columns):\n",
            " #   Column            Non-Null Count  Dtype  \n",
            "---  ------            --------------  -----  \n",
            " 0   car_ID            205 non-null    int64  \n",
            " 1   symboling         205 non-null    int64  \n",
            " 2   CarName           205 non-null    object \n",
            " 3   fueltype          205 non-null    object \n",
            " 4   aspiration        205 non-null    object \n",
            " 5   doornumber        205 non-null    object \n",
            " 6   carbody           205 non-null    object \n",
            " 7   drivewheel        205 non-null    object \n",
            " 8   enginelocation    205 non-null    object \n",
            " 9   wheelbase         205 non-null    float64\n",
            " 10  carlength         205 non-null    float64\n",
            " 11  carwidth          205 non-null    float64\n",
            " 12  carheight         205 non-null    float64\n",
            " 13  curbweight        205 non-null    int64  \n",
            " 14  enginetype        205 non-null    object \n",
            " 15  cylindernumber    205 non-null    object \n",
            " 16  enginesize        205 non-null    int64  \n",
            " 17  fuelsystem        205 non-null    object \n",
            " 18  boreratio         205 non-null    float64\n",
            " 19  stroke            205 non-null    float64\n",
            " 20  compressionratio  205 non-null    float64\n",
            " 21  horsepower        205 non-null    int64  \n",
            " 22  peakrpm           205 non-null    int64  \n",
            " 23  citympg           205 non-null    int64  \n",
            " 24  highwaympg        205 non-null    int64  \n",
            " 25  price             205 non-null    float64\n",
            "dtypes: float64(8), int64(8), object(10)\n",
            "memory usage: 41.8+ KB\n"
          ]
        }
      ]
    },
    {
      "cell_type": "code",
      "source": [
        "valores_unicos = list()\n",
        "for coluna in tuple(df.columns):  \n",
        "  valores_unicos.append((coluna, len(df[coluna].unique()), tuple(df[coluna].unique())))\n",
        "\n",
        "print(*sorted(valores_unicos, key=lambda x: x[1]), sep='\\n')"
      ],
      "metadata": {
        "colab": {
          "base_uri": "https://localhost:8080/"
        },
        "id": "u5zyl0yCiaWO",
        "outputId": "96f3ca25-80e3-490e-c92d-36fe40f7a65a"
      },
      "execution_count": 102,
      "outputs": [
        {
          "output_type": "stream",
          "name": "stdout",
          "text": [
            "('fueltype', 2, ('gas', 'diesel'))\n",
            "('aspiration', 2, ('std', 'turbo'))\n",
            "('doornumber', 2, ('two', 'four'))\n",
            "('enginelocation', 2, ('front', 'rear'))\n",
            "('drivewheel', 3, ('rwd', 'fwd', '4wd'))\n",
            "('carbody', 5, ('convertible', 'hatchback', 'sedan', 'wagon', 'hardtop'))\n",
            "('symboling', 6, (3, 1, 2, 0, -1, -2))\n",
            "('enginetype', 7, ('dohc', 'ohcv', 'ohc', 'l', 'rotor', 'ohcf', 'dohcv'))\n",
            "('cylindernumber', 7, ('four', 'six', 'five', 'three', 'twelve', 'two', 'eight'))\n",
            "('fuelsystem', 8, ('mpfi', '2bbl', 'mfi', '1bbl', 'spfi', '4bbl', 'idi', 'spdi'))\n",
            "('peakrpm', 23, (5000, 5500, 5800, 4250, 5400, 5100, 4800, 6000, 4750, 4650, 4200, 4350, 4500, 5200, 4150, 5600, 5900, 5750, 5250, 4900, 4400, 6600, 5300))\n",
            "('citympg', 29, (21, 19, 24, 18, 17, 16, 23, 20, 15, 47, 38, 37, 31, 49, 30, 27, 25, 13, 26, 36, 22, 14, 45, 28, 32, 35, 34, 29, 33))\n",
            "('highwaympg', 30, (27, 26, 30, 22, 25, 20, 29, 28, 53, 43, 41, 38, 24, 54, 42, 34, 33, 31, 19, 17, 23, 32, 39, 18, 16, 37, 50, 36, 47, 46))\n",
            "('compressionratio', 32, (9.0, 10.0, 8.0, 8.5, 8.3, 7.0, 8.8, 9.5, 9.6, 9.41, 9.4, 7.6, 9.2, 10.1, 9.1, 8.1, 11.5, 8.6, 22.7, 22.0, 21.5, 7.5, 21.9, 7.8, 8.4, 21.0, 8.7, 9.31, 9.3, 7.7, 22.5, 23.0))\n",
            "('stroke', 37, (2.68, 3.47, 3.4, 2.8, 3.19, 3.39, 3.03, 3.11, 3.23, 3.46, 3.9, 3.41, 3.07, 3.58, 4.17, 2.76, 3.15, 3.255, 3.16, 3.64, 3.1, 3.35, 3.12, 3.86, 3.29, 3.27, 3.52, 2.19, 3.21, 2.9, 2.07, 2.36, 2.64, 3.08, 3.5, 3.54, 2.87))\n",
            "('boreratio', 38, (3.47, 2.68, 3.19, 3.13, 3.5, 3.31, 3.62, 2.91, 3.03, 2.97, 3.34, 3.6, 2.92, 3.15, 3.43, 3.63, 3.54, 3.08, 3.33, 3.39, 3.76, 3.58, 3.46, 3.8, 3.78, 3.17, 3.35, 3.59, 2.99, 3.7, 3.61, 3.94, 3.74, 2.54, 3.05, 3.27, 3.24, 3.01))\n",
            "('carwidth', 44, (64.1, 65.5, 66.2, 66.4, 66.3, 71.4, 67.9, 64.8, 66.9, 70.9, 60.3, 63.6, 63.8, 64.6, 63.9, 64.0, 65.2, 62.5, 66.0, 61.8, 69.6, 70.6, 64.2, 65.7, 66.5, 66.1, 70.3, 71.7, 70.5, 72.0, 68.0, 64.4, 65.4, 68.4, 68.3, 65.0, 72.3, 66.6, 63.4, 65.6, 67.7, 67.2, 68.9, 68.8))\n",
            "('enginesize', 44, (130, 152, 109, 136, 131, 108, 164, 209, 61, 90, 98, 122, 156, 92, 79, 110, 111, 119, 258, 326, 91, 70, 80, 140, 134, 183, 234, 308, 304, 97, 103, 120, 181, 151, 194, 203, 132, 121, 146, 171, 161, 141, 173, 145))\n",
            "('carheight', 49, (48.8, 52.4, 54.3, 53.1, 55.7, 55.9, 52.0, 53.7, 56.3, 53.2, 50.8, 50.6, 59.8, 50.2, 52.6, 54.5, 58.3, 53.3, 54.1, 51.0, 53.5, 51.4, 52.8, 47.8, 49.6, 55.5, 54.4, 56.5, 58.7, 54.9, 56.7, 55.4, 54.8, 49.4, 51.6, 54.7, 55.1, 56.1, 49.7, 56.0, 50.5, 55.2, 52.5, 53.0, 59.1, 53.9, 55.6, 56.2, 57.5))\n",
            "('wheelbase', 53, (88.6, 94.5, 99.8, 99.4, 105.8, 99.5, 101.2, 103.5, 110.0, 88.4, 93.7, 103.3, 95.9, 86.6, 96.5, 94.3, 96.0, 113.0, 102.0, 93.1, 95.3, 98.8, 104.9, 106.7, 115.6, 96.6, 120.9, 112.0, 102.7, 93.0, 96.3, 95.1, 97.2, 100.4, 91.3, 99.2, 107.9, 114.2, 108.0, 89.5, 98.4, 96.1, 99.1, 93.3, 97.0, 96.9, 95.7, 102.4, 102.9, 104.5, 97.3, 104.3, 109.1))\n",
            "('horsepower', 59, (111, 154, 102, 115, 110, 140, 160, 101, 121, 182, 48, 70, 68, 88, 145, 58, 76, 60, 86, 100, 78, 90, 176, 262, 135, 84, 64, 120, 72, 123, 155, 184, 175, 116, 69, 55, 97, 152, 200, 95, 142, 143, 207, 288, 73, 82, 94, 62, 56, 112, 92, 161, 156, 52, 85, 114, 162, 134, 106))\n",
            "('carlength', 75, (168.8, 171.2, 176.6, 177.3, 192.7, 178.2, 176.8, 189.0, 193.8, 197.0, 141.1, 155.9, 158.8, 157.3, 174.6, 173.2, 144.6, 150.0, 163.4, 157.1, 167.5, 175.4, 169.1, 170.7, 172.6, 199.6, 191.7, 159.1, 166.8, 169.0, 177.8, 175.0, 190.9, 187.5, 202.6, 180.3, 208.1, 199.2, 178.4, 173.0, 172.4, 165.3, 170.2, 165.6, 162.4, 173.4, 181.7, 184.6, 178.5, 186.7, 198.9, 167.3, 168.9, 175.7, 181.5, 186.6, 156.9, 157.9, 172.0, 173.5, 173.6, 158.7, 169.7, 166.3, 168.7, 176.2, 175.6, 183.5, 187.8, 171.7, 159.3, 165.7, 180.2, 183.1, 188.8))\n",
            "('CarName', 147, ('alfa-romero giulia', 'alfa-romero stelvio', 'alfa-romero Quadrifoglio', 'audi 100 ls', 'audi 100ls', 'audi fox', 'audi 5000', 'audi 4000', 'audi 5000s (diesel)', 'bmw 320i', 'bmw x1', 'bmw x3', 'bmw z4', 'bmw x4', 'bmw x5', 'chevrolet impala', 'chevrolet monte carlo', 'chevrolet vega 2300', 'dodge rampage', 'dodge challenger se', 'dodge d200', 'dodge monaco (sw)', 'dodge colt hardtop', 'dodge colt (sw)', 'dodge coronet custom', 'dodge dart custom', 'dodge coronet custom (sw)', 'honda civic', 'honda civic cvcc', 'honda accord cvcc', 'honda accord lx', 'honda civic 1500 gl', 'honda accord', 'honda civic 1300', 'honda prelude', 'honda civic (auto)', 'isuzu MU-X', 'isuzu D-Max ', 'isuzu D-Max V-Cross', 'jaguar xj', 'jaguar xf', 'jaguar xk', 'maxda rx3', 'maxda glc deluxe', 'mazda rx2 coupe', 'mazda rx-4', 'mazda glc deluxe', 'mazda 626', 'mazda glc', 'mazda rx-7 gs', 'mazda glc 4', 'mazda glc custom l', 'mazda glc custom', 'buick electra 225 custom', 'buick century luxus (sw)', 'buick century', 'buick skyhawk', 'buick opel isuzu deluxe', 'buick skylark', 'buick century special', 'buick regal sport coupe (turbo)', 'mercury cougar', 'mitsubishi mirage', 'mitsubishi lancer', 'mitsubishi outlander', 'mitsubishi g4', 'mitsubishi mirage g4', 'mitsubishi montero', 'mitsubishi pajero', 'Nissan versa', 'nissan gt-r', 'nissan rogue', 'nissan latio', 'nissan titan', 'nissan leaf', 'nissan juke', 'nissan note', 'nissan clipper', 'nissan nv200', 'nissan dayz', 'nissan fuga', 'nissan otti', 'nissan teana', 'nissan kicks', 'peugeot 504', 'peugeot 304', 'peugeot 504 (sw)', 'peugeot 604sl', 'peugeot 505s turbo diesel', 'plymouth fury iii', 'plymouth cricket', 'plymouth satellite custom (sw)', 'plymouth fury gran sedan', 'plymouth valiant', 'plymouth duster', 'porsche macan', 'porcshce panamera', 'porsche cayenne', 'porsche boxter', 'renault 12tl', 'renault 5 gtl', 'saab 99e', 'saab 99le', 'saab 99gle', 'subaru', 'subaru dl', 'subaru brz', 'subaru baja', 'subaru r1', 'subaru r2', 'subaru trezia', 'subaru tribeca', 'toyota corona mark ii', 'toyota corona', 'toyota corolla 1200', 'toyota corona hardtop', 'toyota corolla 1600 (sw)', 'toyota carina', 'toyota mark ii', 'toyota corolla', 'toyota corolla liftback', 'toyota celica gt liftback', 'toyota corolla tercel', 'toyota corona liftback', 'toyota starlet', 'toyota tercel', 'toyota cressida', 'toyota celica gt', 'toyouta tercel', 'vokswagen rabbit', 'volkswagen 1131 deluxe sedan', 'volkswagen model 111', 'volkswagen type 3', 'volkswagen 411 (sw)', 'volkswagen super beetle', 'volkswagen dasher', 'vw dasher', 'vw rabbit', 'volkswagen rabbit', 'volkswagen rabbit custom', 'volvo 145e (sw)', 'volvo 144ea', 'volvo 244dl', 'volvo 245', 'volvo 264gl', 'volvo diesel', 'volvo 246'))\n",
            "('curbweight', 171, (2548, 2823, 2337, 2824, 2507, 2844, 2954, 3086, 3053, 2395, 2710, 2765, 3055, 3230, 3380, 3505, 1488, 1874, 1909, 1876, 2128, 1967, 1989, 2191, 2535, 2811, 1713, 1819, 1837, 1940, 1956, 2010, 2024, 2236, 2289, 2304, 2372, 2465, 2293, 2734, 4066, 3950, 1890, 1900, 1905, 1945, 1950, 2380, 2385, 2500, 2410, 2443, 2425, 2670, 2700, 3515, 3750, 3495, 3770, 3740, 3685, 3900, 3715, 2910, 1918, 1944, 2004, 2145, 2370, 2328, 2833, 2921, 2926, 2365, 2405, 2403, 1889, 2017, 1938, 1951, 2028, 1971, 2037, 2008, 2324, 2302, 3095, 3296, 3060, 3071, 3139, 3020, 3197, 3430, 3075, 3252, 3285, 3485, 3130, 2818, 2778, 2756, 2800, 3366, 2579, 2460, 2658, 2695, 2707, 2758, 2808, 2847, 2050, 2120, 2240, 2190, 2340, 2510, 2290, 2455, 2420, 2650, 1985, 2040, 2015, 2280, 3110, 2081, 2109, 2275, 2094, 2122, 2140, 2169, 2204, 2265, 2300, 2540, 2536, 2551, 2679, 2714, 2975, 2326, 2480, 2414, 2458, 2976, 3016, 3131, 3151, 2261, 2209, 2264, 2212, 2319, 2254, 2221, 2661, 2563, 2912, 3034, 2935, 3042, 3045, 3157, 2952, 3049, 3012, 3217, 3062))\n",
            "('price', 189, (13495.0, 16500.0, 13950.0, 17450.0, 15250.0, 17710.0, 18920.0, 23875.0, 17859.167, 16430.0, 16925.0, 20970.0, 21105.0, 24565.0, 30760.0, 41315.0, 36880.0, 5151.0, 6295.0, 6575.0, 5572.0, 6377.0, 7957.0, 6229.0, 6692.0, 7609.0, 8558.0, 8921.0, 12964.0, 6479.0, 6855.0, 5399.0, 6529.0, 7129.0, 7295.0, 7895.0, 9095.0, 8845.0, 10295.0, 12945.0, 10345.0, 6785.0, 8916.5, 11048.0, 32250.0, 35550.0, 36000.0, 5195.0, 6095.0, 6795.0, 6695.0, 7395.0, 10945.0, 11845.0, 13645.0, 15645.0, 8495.0, 10595.0, 10245.0, 10795.0, 11245.0, 18280.0, 18344.0, 25552.0, 28248.0, 28176.0, 31600.0, 34184.0, 35056.0, 40960.0, 45400.0, 16503.0, 5389.0, 6189.0, 6669.0, 7689.0, 9959.0, 8499.0, 12629.0, 14869.0, 14489.0, 6989.0, 8189.0, 9279.0, 5499.0, 7099.0, 6649.0, 6849.0, 7349.0, 7299.0, 7799.0, 7499.0, 7999.0, 8249.0, 8949.0, 9549.0, 13499.0, 14399.0, 17199.0, 19699.0, 18399.0, 11900.0, 13200.0, 12440.0, 13860.0, 15580.0, 16900.0, 16695.0, 17075.0, 16630.0, 17950.0, 18150.0, 12764.0, 22018.0, 32528.0, 34028.0, 37028.0, 31400.5, 9295.0, 9895.0, 11850.0, 12170.0, 15040.0, 15510.0, 18620.0, 5118.0, 7053.0, 7603.0, 7126.0, 7775.0, 9960.0, 9233.0, 11259.0, 7463.0, 10198.0, 8013.0, 11694.0, 5348.0, 6338.0, 6488.0, 6918.0, 7898.0, 8778.0, 6938.0, 7198.0, 7788.0, 7738.0, 8358.0, 9258.0, 8058.0, 8238.0, 9298.0, 9538.0, 8449.0, 9639.0, 9989.0, 11199.0, 11549.0, 17669.0, 8948.0, 10698.0, 9988.0, 10898.0, 11248.0, 16558.0, 15998.0, 15690.0, 15750.0, 7975.0, 7995.0, 8195.0, 9495.0, 9995.0, 11595.0, 9980.0, 13295.0, 13845.0, 12290.0, 12940.0, 13415.0, 15985.0, 16515.0, 18420.0, 18950.0, 16845.0, 19045.0, 21485.0, 22470.0, 22625.0))\n",
            "('car_ID', 205, (1, 2, 3, 4, 5, 6, 7, 8, 9, 10, 11, 12, 13, 14, 15, 16, 17, 18, 19, 20, 21, 22, 23, 24, 25, 26, 27, 28, 29, 30, 31, 32, 33, 34, 35, 36, 37, 38, 39, 40, 41, 42, 43, 44, 45, 46, 47, 48, 49, 50, 51, 52, 53, 54, 55, 56, 57, 58, 59, 60, 61, 62, 63, 64, 65, 66, 67, 68, 69, 70, 71, 72, 73, 74, 75, 76, 77, 78, 79, 80, 81, 82, 83, 84, 85, 86, 87, 88, 89, 90, 91, 92, 93, 94, 95, 96, 97, 98, 99, 100, 101, 102, 103, 104, 105, 106, 107, 108, 109, 110, 111, 112, 113, 114, 115, 116, 117, 118, 119, 120, 121, 122, 123, 124, 125, 126, 127, 128, 129, 130, 131, 132, 133, 134, 135, 136, 137, 138, 139, 140, 141, 142, 143, 144, 145, 146, 147, 148, 149, 150, 151, 152, 153, 154, 155, 156, 157, 158, 159, 160, 161, 162, 163, 164, 165, 166, 167, 168, 169, 170, 171, 172, 173, 174, 175, 176, 177, 178, 179, 180, 181, 182, 183, 184, 185, 186, 187, 188, 189, 190, 191, 192, 193, 194, 195, 196, 197, 198, 199, 200, 201, 202, 203, 204, 205))\n"
          ]
        }
      ]
    },
    {
      "cell_type": "code",
      "source": [
        "dfReduce = df['carbody price'.split()][:]"
      ],
      "metadata": {
        "id": "2AOUhQEpn9GL"
      },
      "execution_count": 103,
      "outputs": []
    },
    {
      "cell_type": "code",
      "source": [
        "dfReduce.head()"
      ],
      "metadata": {
        "colab": {
          "base_uri": "https://localhost:8080/",
          "height": 206
        },
        "id": "00XOax4moJm6",
        "outputId": "cac6b274-5e61-4563-c8ef-530e29db3ea5"
      },
      "execution_count": 104,
      "outputs": [
        {
          "output_type": "execute_result",
          "data": {
            "text/plain": [
              "       carbody    price\n",
              "0  convertible  13495.0\n",
              "1  convertible  16500.0\n",
              "2    hatchback  16500.0\n",
              "3        sedan  13950.0\n",
              "4        sedan  17450.0"
            ],
            "text/html": [
              "\n",
              "  <div id=\"df-ea263488-53d6-4b40-afe7-ec4f4f609dab\">\n",
              "    <div class=\"colab-df-container\">\n",
              "      <div>\n",
              "<style scoped>\n",
              "    .dataframe tbody tr th:only-of-type {\n",
              "        vertical-align: middle;\n",
              "    }\n",
              "\n",
              "    .dataframe tbody tr th {\n",
              "        vertical-align: top;\n",
              "    }\n",
              "\n",
              "    .dataframe thead th {\n",
              "        text-align: right;\n",
              "    }\n",
              "</style>\n",
              "<table border=\"1\" class=\"dataframe\">\n",
              "  <thead>\n",
              "    <tr style=\"text-align: right;\">\n",
              "      <th></th>\n",
              "      <th>carbody</th>\n",
              "      <th>price</th>\n",
              "    </tr>\n",
              "  </thead>\n",
              "  <tbody>\n",
              "    <tr>\n",
              "      <th>0</th>\n",
              "      <td>convertible</td>\n",
              "      <td>13495.0</td>\n",
              "    </tr>\n",
              "    <tr>\n",
              "      <th>1</th>\n",
              "      <td>convertible</td>\n",
              "      <td>16500.0</td>\n",
              "    </tr>\n",
              "    <tr>\n",
              "      <th>2</th>\n",
              "      <td>hatchback</td>\n",
              "      <td>16500.0</td>\n",
              "    </tr>\n",
              "    <tr>\n",
              "      <th>3</th>\n",
              "      <td>sedan</td>\n",
              "      <td>13950.0</td>\n",
              "    </tr>\n",
              "    <tr>\n",
              "      <th>4</th>\n",
              "      <td>sedan</td>\n",
              "      <td>17450.0</td>\n",
              "    </tr>\n",
              "  </tbody>\n",
              "</table>\n",
              "</div>\n",
              "      <button class=\"colab-df-convert\" onclick=\"convertToInteractive('df-ea263488-53d6-4b40-afe7-ec4f4f609dab')\"\n",
              "              title=\"Convert this dataframe to an interactive table.\"\n",
              "              style=\"display:none;\">\n",
              "        \n",
              "  <svg xmlns=\"http://www.w3.org/2000/svg\" height=\"24px\"viewBox=\"0 0 24 24\"\n",
              "       width=\"24px\">\n",
              "    <path d=\"M0 0h24v24H0V0z\" fill=\"none\"/>\n",
              "    <path d=\"M18.56 5.44l.94 2.06.94-2.06 2.06-.94-2.06-.94-.94-2.06-.94 2.06-2.06.94zm-11 1L8.5 8.5l.94-2.06 2.06-.94-2.06-.94L8.5 2.5l-.94 2.06-2.06.94zm10 10l.94 2.06.94-2.06 2.06-.94-2.06-.94-.94-2.06-.94 2.06-2.06.94z\"/><path d=\"M17.41 7.96l-1.37-1.37c-.4-.4-.92-.59-1.43-.59-.52 0-1.04.2-1.43.59L10.3 9.45l-7.72 7.72c-.78.78-.78 2.05 0 2.83L4 21.41c.39.39.9.59 1.41.59.51 0 1.02-.2 1.41-.59l7.78-7.78 2.81-2.81c.8-.78.8-2.07 0-2.86zM5.41 20L4 18.59l7.72-7.72 1.47 1.35L5.41 20z\"/>\n",
              "  </svg>\n",
              "      </button>\n",
              "      \n",
              "  <style>\n",
              "    .colab-df-container {\n",
              "      display:flex;\n",
              "      flex-wrap:wrap;\n",
              "      gap: 12px;\n",
              "    }\n",
              "\n",
              "    .colab-df-convert {\n",
              "      background-color: #E8F0FE;\n",
              "      border: none;\n",
              "      border-radius: 50%;\n",
              "      cursor: pointer;\n",
              "      display: none;\n",
              "      fill: #1967D2;\n",
              "      height: 32px;\n",
              "      padding: 0 0 0 0;\n",
              "      width: 32px;\n",
              "    }\n",
              "\n",
              "    .colab-df-convert:hover {\n",
              "      background-color: #E2EBFA;\n",
              "      box-shadow: 0px 1px 2px rgba(60, 64, 67, 0.3), 0px 1px 3px 1px rgba(60, 64, 67, 0.15);\n",
              "      fill: #174EA6;\n",
              "    }\n",
              "\n",
              "    [theme=dark] .colab-df-convert {\n",
              "      background-color: #3B4455;\n",
              "      fill: #D2E3FC;\n",
              "    }\n",
              "\n",
              "    [theme=dark] .colab-df-convert:hover {\n",
              "      background-color: #434B5C;\n",
              "      box-shadow: 0px 1px 3px 1px rgba(0, 0, 0, 0.15);\n",
              "      filter: drop-shadow(0px 1px 2px rgba(0, 0, 0, 0.3));\n",
              "      fill: #FFFFFF;\n",
              "    }\n",
              "  </style>\n",
              "\n",
              "      <script>\n",
              "        const buttonEl =\n",
              "          document.querySelector('#df-ea263488-53d6-4b40-afe7-ec4f4f609dab button.colab-df-convert');\n",
              "        buttonEl.style.display =\n",
              "          google.colab.kernel.accessAllowed ? 'block' : 'none';\n",
              "\n",
              "        async function convertToInteractive(key) {\n",
              "          const element = document.querySelector('#df-ea263488-53d6-4b40-afe7-ec4f4f609dab');\n",
              "          const dataTable =\n",
              "            await google.colab.kernel.invokeFunction('convertToInteractive',\n",
              "                                                     [key], {});\n",
              "          if (!dataTable) return;\n",
              "\n",
              "          const docLinkHtml = 'Like what you see? Visit the ' +\n",
              "            '<a target=\"_blank\" href=https://colab.research.google.com/notebooks/data_table.ipynb>data table notebook</a>'\n",
              "            + ' to learn more about interactive tables.';\n",
              "          element.innerHTML = '';\n",
              "          dataTable['output_type'] = 'display_data';\n",
              "          await google.colab.output.renderOutput(dataTable, element);\n",
              "          const docLink = document.createElement('div');\n",
              "          docLink.innerHTML = docLinkHtml;\n",
              "          element.appendChild(docLink);\n",
              "        }\n",
              "      </script>\n",
              "    </div>\n",
              "  </div>\n",
              "  "
            ]
          },
          "metadata": {},
          "execution_count": 104
        }
      ]
    },
    {
      "cell_type": "code",
      "source": [
        "dfReduce.describe(percentiles=[0.05, 0.1, 0.15, 0.25, 0.45, 0.5, 0.65, 0.75, 0.90, 0.99])"
      ],
      "metadata": {
        "colab": {
          "base_uri": "https://localhost:8080/",
          "height": 520
        },
        "id": "GZN6t5O9oNGx",
        "outputId": "c6023cb1-39d8-4b8c-c385-dd7f423c1a85"
      },
      "execution_count": 105,
      "outputs": [
        {
          "output_type": "execute_result",
          "data": {
            "text/plain": [
              "              price\n",
              "count    205.000000\n",
              "mean   13276.710571\n",
              "std     7988.852332\n",
              "min     5118.000000\n",
              "5%      6197.000000\n",
              "10%     6657.000000\n",
              "15%     6968.600000\n",
              "25%     7788.000000\n",
              "45%     9621.000000\n",
              "50%    10295.000000\n",
              "65%    13499.000000\n",
              "75%    16503.000000\n",
              "90%    22563.000000\n",
              "99%    40802.720000\n",
              "max    45400.000000"
            ],
            "text/html": [
              "\n",
              "  <div id=\"df-dbce3067-2192-43fe-8dd3-cd4300be55ab\">\n",
              "    <div class=\"colab-df-container\">\n",
              "      <div>\n",
              "<style scoped>\n",
              "    .dataframe tbody tr th:only-of-type {\n",
              "        vertical-align: middle;\n",
              "    }\n",
              "\n",
              "    .dataframe tbody tr th {\n",
              "        vertical-align: top;\n",
              "    }\n",
              "\n",
              "    .dataframe thead th {\n",
              "        text-align: right;\n",
              "    }\n",
              "</style>\n",
              "<table border=\"1\" class=\"dataframe\">\n",
              "  <thead>\n",
              "    <tr style=\"text-align: right;\">\n",
              "      <th></th>\n",
              "      <th>price</th>\n",
              "    </tr>\n",
              "  </thead>\n",
              "  <tbody>\n",
              "    <tr>\n",
              "      <th>count</th>\n",
              "      <td>205.000000</td>\n",
              "    </tr>\n",
              "    <tr>\n",
              "      <th>mean</th>\n",
              "      <td>13276.710571</td>\n",
              "    </tr>\n",
              "    <tr>\n",
              "      <th>std</th>\n",
              "      <td>7988.852332</td>\n",
              "    </tr>\n",
              "    <tr>\n",
              "      <th>min</th>\n",
              "      <td>5118.000000</td>\n",
              "    </tr>\n",
              "    <tr>\n",
              "      <th>5%</th>\n",
              "      <td>6197.000000</td>\n",
              "    </tr>\n",
              "    <tr>\n",
              "      <th>10%</th>\n",
              "      <td>6657.000000</td>\n",
              "    </tr>\n",
              "    <tr>\n",
              "      <th>15%</th>\n",
              "      <td>6968.600000</td>\n",
              "    </tr>\n",
              "    <tr>\n",
              "      <th>25%</th>\n",
              "      <td>7788.000000</td>\n",
              "    </tr>\n",
              "    <tr>\n",
              "      <th>45%</th>\n",
              "      <td>9621.000000</td>\n",
              "    </tr>\n",
              "    <tr>\n",
              "      <th>50%</th>\n",
              "      <td>10295.000000</td>\n",
              "    </tr>\n",
              "    <tr>\n",
              "      <th>65%</th>\n",
              "      <td>13499.000000</td>\n",
              "    </tr>\n",
              "    <tr>\n",
              "      <th>75%</th>\n",
              "      <td>16503.000000</td>\n",
              "    </tr>\n",
              "    <tr>\n",
              "      <th>90%</th>\n",
              "      <td>22563.000000</td>\n",
              "    </tr>\n",
              "    <tr>\n",
              "      <th>99%</th>\n",
              "      <td>40802.720000</td>\n",
              "    </tr>\n",
              "    <tr>\n",
              "      <th>max</th>\n",
              "      <td>45400.000000</td>\n",
              "    </tr>\n",
              "  </tbody>\n",
              "</table>\n",
              "</div>\n",
              "      <button class=\"colab-df-convert\" onclick=\"convertToInteractive('df-dbce3067-2192-43fe-8dd3-cd4300be55ab')\"\n",
              "              title=\"Convert this dataframe to an interactive table.\"\n",
              "              style=\"display:none;\">\n",
              "        \n",
              "  <svg xmlns=\"http://www.w3.org/2000/svg\" height=\"24px\"viewBox=\"0 0 24 24\"\n",
              "       width=\"24px\">\n",
              "    <path d=\"M0 0h24v24H0V0z\" fill=\"none\"/>\n",
              "    <path d=\"M18.56 5.44l.94 2.06.94-2.06 2.06-.94-2.06-.94-.94-2.06-.94 2.06-2.06.94zm-11 1L8.5 8.5l.94-2.06 2.06-.94-2.06-.94L8.5 2.5l-.94 2.06-2.06.94zm10 10l.94 2.06.94-2.06 2.06-.94-2.06-.94-.94-2.06-.94 2.06-2.06.94z\"/><path d=\"M17.41 7.96l-1.37-1.37c-.4-.4-.92-.59-1.43-.59-.52 0-1.04.2-1.43.59L10.3 9.45l-7.72 7.72c-.78.78-.78 2.05 0 2.83L4 21.41c.39.39.9.59 1.41.59.51 0 1.02-.2 1.41-.59l7.78-7.78 2.81-2.81c.8-.78.8-2.07 0-2.86zM5.41 20L4 18.59l7.72-7.72 1.47 1.35L5.41 20z\"/>\n",
              "  </svg>\n",
              "      </button>\n",
              "      \n",
              "  <style>\n",
              "    .colab-df-container {\n",
              "      display:flex;\n",
              "      flex-wrap:wrap;\n",
              "      gap: 12px;\n",
              "    }\n",
              "\n",
              "    .colab-df-convert {\n",
              "      background-color: #E8F0FE;\n",
              "      border: none;\n",
              "      border-radius: 50%;\n",
              "      cursor: pointer;\n",
              "      display: none;\n",
              "      fill: #1967D2;\n",
              "      height: 32px;\n",
              "      padding: 0 0 0 0;\n",
              "      width: 32px;\n",
              "    }\n",
              "\n",
              "    .colab-df-convert:hover {\n",
              "      background-color: #E2EBFA;\n",
              "      box-shadow: 0px 1px 2px rgba(60, 64, 67, 0.3), 0px 1px 3px 1px rgba(60, 64, 67, 0.15);\n",
              "      fill: #174EA6;\n",
              "    }\n",
              "\n",
              "    [theme=dark] .colab-df-convert {\n",
              "      background-color: #3B4455;\n",
              "      fill: #D2E3FC;\n",
              "    }\n",
              "\n",
              "    [theme=dark] .colab-df-convert:hover {\n",
              "      background-color: #434B5C;\n",
              "      box-shadow: 0px 1px 3px 1px rgba(0, 0, 0, 0.15);\n",
              "      filter: drop-shadow(0px 1px 2px rgba(0, 0, 0, 0.3));\n",
              "      fill: #FFFFFF;\n",
              "    }\n",
              "  </style>\n",
              "\n",
              "      <script>\n",
              "        const buttonEl =\n",
              "          document.querySelector('#df-dbce3067-2192-43fe-8dd3-cd4300be55ab button.colab-df-convert');\n",
              "        buttonEl.style.display =\n",
              "          google.colab.kernel.accessAllowed ? 'block' : 'none';\n",
              "\n",
              "        async function convertToInteractive(key) {\n",
              "          const element = document.querySelector('#df-dbce3067-2192-43fe-8dd3-cd4300be55ab');\n",
              "          const dataTable =\n",
              "            await google.colab.kernel.invokeFunction('convertToInteractive',\n",
              "                                                     [key], {});\n",
              "          if (!dataTable) return;\n",
              "\n",
              "          const docLinkHtml = 'Like what you see? Visit the ' +\n",
              "            '<a target=\"_blank\" href=https://colab.research.google.com/notebooks/data_table.ipynb>data table notebook</a>'\n",
              "            + ' to learn more about interactive tables.';\n",
              "          element.innerHTML = '';\n",
              "          dataTable['output_type'] = 'display_data';\n",
              "          await google.colab.output.renderOutput(dataTable, element);\n",
              "          const docLink = document.createElement('div');\n",
              "          docLink.innerHTML = docLinkHtml;\n",
              "          element.appendChild(docLink);\n",
              "        }\n",
              "      </script>\n",
              "    </div>\n",
              "  </div>\n",
              "  "
            ]
          },
          "metadata": {},
          "execution_count": 105
        }
      ]
    },
    {
      "cell_type": "markdown",
      "metadata": {
        "id": "_7n2rfQFiwTb"
      },
      "source": [
        "## 2 - 2 Distribuição do preço de acordo com o carbody"
      ]
    },
    {
      "cell_type": "code",
      "source": [
        "car_bodies = sorted(tuple(dfReduce['carbody'].unique()))[::-1]\n",
        "bod_index = len(car_bodies) - 1 \n",
        "\n",
        "ncols = 3\n",
        "nrows = int(np.ceil(len(car_bodies)/(1.0 * ncols)))\n",
        "\n",
        "fig, axes = plt.subplots(nrows, ncols, figsize=(20, 12))\n",
        "\n",
        "fig.suptitle('Histogramas de preço por tipo de carroceria', fontsize=20)\n",
        "\n",
        "for lines in axes: #itera nas linhas\n",
        "  for cols in lines: #itera nas colunas dentro das linhas\n",
        "    if bod_index >= 0:  #verifica o indice a ser usado\n",
        "\n",
        "      linha = np.where(axes == lines)[0][0] #pega o index da linha\n",
        "      coluna = np.where(lines == cols)[0][0] #pega o index da coluna\n",
        "\n",
        "      dfReduce[dfReduce['carbody'] == car_bodies[bod_index]]['price'].plot.hist(\n",
        "      bins=9, label=car_bodies[bod_index].replace('_', ' ').title(), \n",
        "      subplots=True, legend=True, ax=axes[linha, coluna])\n",
        "\n",
        "      \n",
        "      bod_index -= 1\n",
        "\n",
        "    else:\n",
        "      plt.axis('off')\n",
        "\n",
        "plt.show()\n"
      ],
      "metadata": {
        "colab": {
          "base_uri": "https://localhost:8080/",
          "height": 787
        },
        "id": "jgAKiFE4pBll",
        "outputId": "fa2dd826-f064-4ce7-f656-675c7f9d5e04"
      },
      "execution_count": 106,
      "outputs": [
        {
          "output_type": "display_data",
          "data": {
            "text/plain": [
              "<Figure size 1440x864 with 6 Axes>"
            ],
            "image/png": "[encoded data removed]"
          },
          "metadata": {
            "needs_background": "light"
          }
        }
      ]
    },
    {
      "cell_type": "markdown",
      "metadata": {
        "id": "3TOWpffRjMtO"
      },
      "source": [
        "## 2 - 3 Transformações da variável categórica "
      ]
    },
    {
      "cell_type": "markdown",
      "metadata": {
        "id": "Gm9kvyu1jTpa"
      },
      "source": [
        "### Usando o get_dummies do pandas"
      ]
    },
    {
      "cell_type": "code",
      "source": [
        "dfReduce = pd.concat([pd.get_dummies(dfReduce['carbody'], prefix='cb', prefix_sep='_', drop_first=False), dfReduce], axis=1).drop('carbody', axis=1)"
      ],
      "metadata": {
        "id": "icJe4XhAwzmt"
      },
      "execution_count": 107,
      "outputs": []
    },
    {
      "cell_type": "markdown",
      "metadata": {
        "id": "TcrNpiRFjkd3"
      },
      "source": [
        "## 2 - 4 Treinamento e validação do modelo"
      ]
    },
    {
      "cell_type": "markdown",
      "metadata": {
        "id": "fYHRD9HIjtPw"
      },
      "source": [
        "### Separar Treino X Teste"
      ]
    },
    {
      "cell_type": "code",
      "source": [
        "y = dfReduce['price']\n",
        "X = dfReduce.drop('price', axis=1)"
      ],
      "metadata": {
        "id": "-BccBkKByEdH"
      },
      "execution_count": 108,
      "outputs": []
    },
    {
      "cell_type": "code",
      "source": [
        "X_train, X_test, y_train, y_test = train_test_split(X,y, test_size=0.2, random_state=5)"
      ],
      "metadata": {
        "id": "oRHjNYkzyUn-"
      },
      "execution_count": 109,
      "outputs": []
    },
    {
      "cell_type": "code",
      "source": [
        "X_train.info()"
      ],
      "metadata": {
        "colab": {
          "base_uri": "https://localhost:8080/"
        },
        "id": "v9za7PFRyvoC",
        "outputId": "3976f8f9-7161-4e9a-d674-4b868f3729fc"
      },
      "execution_count": 110,
      "outputs": [
        {
          "output_type": "stream",
          "name": "stdout",
          "text": [
            "<class 'pandas.core.frame.DataFrame'>\n",
            "Int64Index: 164 entries, 46 to 99\n",
            "Data columns (total 5 columns):\n",
            " #   Column          Non-Null Count  Dtype\n",
            "---  ------          --------------  -----\n",
            " 0   cb_convertible  164 non-null    uint8\n",
            " 1   cb_hardtop      164 non-null    uint8\n",
            " 2   cb_hatchback    164 non-null    uint8\n",
            " 3   cb_sedan        164 non-null    uint8\n",
            " 4   cb_wagon        164 non-null    uint8\n",
            "dtypes: uint8(5)\n",
            "memory usage: 2.1 KB\n"
          ]
        }
      ]
    },
    {
      "cell_type": "markdown",
      "metadata": {
        "id": "DtZ9hBXdj1dJ"
      },
      "source": [
        "### Treinar modelo"
      ]
    },
    {
      "cell_type": "code",
      "source": [
        "reg = LinearRegression().fit(X_train, y_train)"
      ],
      "metadata": {
        "id": "NWxwSduLy0Uz"
      },
      "execution_count": 111,
      "outputs": []
    },
    {
      "cell_type": "code",
      "source": [
        "reg.coef_"
      ],
      "metadata": {
        "colab": {
          "base_uri": "https://localhost:8080/"
        },
        "id": "uMW7s-_5zbW2",
        "outputId": "61b54fef-9b97-4003-e463-a2ad9c400efb"
      },
      "execution_count": 112,
      "outputs": [
        {
          "output_type": "execute_result",
          "data": {
            "text/plain": [
              "array([ 5713.59037976,  4557.37609405, -5437.04056667, -2167.0162869 ,\n",
              "       -2666.90962024])"
            ]
          },
          "metadata": {},
          "execution_count": 112
        }
      ]
    },
    {
      "cell_type": "markdown",
      "metadata": {
        "id": "IN5zcgJlj7_d"
      },
      "source": [
        "### Calcular métricas do modelo\n",
        "\n",
        "- Fórmula da regressão\n",
        "- MSE\n",
        "- RMSE\n",
        "- R²"
      ]
    },
    {
      "cell_type": "code",
      "source": [
        "residuals = pd.DataFrame()\n",
        "residuals['real'] = y_test\n",
        "residuals['predict'] = reg.predict(X_test)\n",
        "residuals['residual'] = residuals['real'] - residuals['predict']\n",
        "\n",
        "residuals.head()"
      ],
      "metadata": {
        "colab": {
          "base_uri": "https://localhost:8080/",
          "height": 206
        },
        "id": "jJMQS8Saz58G",
        "outputId": "a0cc97ac-79e5-485f-b424-dcdb9141bcf9"
      },
      "execution_count": 113,
      "outputs": [
        {
          "output_type": "execute_result",
          "data": {
            "text/plain": [
              "        real       predict      residual\n",
              "154   7898.0  13510.000000  -5612.000000\n",
              "21    5572.0  10739.869054  -5167.869054\n",
              "198  18420.0  14009.893333   4410.106667\n",
              "48   35550.0  14009.893333  21540.106667\n",
              "34    7129.0  10739.869054  -3610.869054"
            ],
            "text/html": [
              "\n",
              "  <div id=\"df-ad57ab3d-cf17-439d-8435-4665e25b9fee\">\n",
              "    <div class=\"colab-df-container\">\n",
              "      <div>\n",
              "<style scoped>\n",
              "    .dataframe tbody tr th:only-of-type {\n",
              "        vertical-align: middle;\n",
              "    }\n",
              "\n",
              "    .dataframe tbody tr th {\n",
              "        vertical-align: top;\n",
              "    }\n",
              "\n",
              "    .dataframe thead th {\n",
              "        text-align: right;\n",
              "    }\n",
              "</style>\n",
              "<table border=\"1\" class=\"dataframe\">\n",
              "  <thead>\n",
              "    <tr style=\"text-align: right;\">\n",
              "      <th></th>\n",
              "      <th>real</th>\n",
              "      <th>predict</th>\n",
              "      <th>residual</th>\n",
              "    </tr>\n",
              "  </thead>\n",
              "  <tbody>\n",
              "    <tr>\n",
              "      <th>154</th>\n",
              "      <td>7898.0</td>\n",
              "      <td>13510.000000</td>\n",
              "      <td>-5612.000000</td>\n",
              "    </tr>\n",
              "    <tr>\n",
              "      <th>21</th>\n",
              "      <td>5572.0</td>\n",
              "      <td>10739.869054</td>\n",
              "      <td>-5167.869054</td>\n",
              "    </tr>\n",
              "    <tr>\n",
              "      <th>198</th>\n",
              "      <td>18420.0</td>\n",
              "      <td>14009.893333</td>\n",
              "      <td>4410.106667</td>\n",
              "    </tr>\n",
              "    <tr>\n",
              "      <th>48</th>\n",
              "      <td>35550.0</td>\n",
              "      <td>14009.893333</td>\n",
              "      <td>21540.106667</td>\n",
              "    </tr>\n",
              "    <tr>\n",
              "      <th>34</th>\n",
              "      <td>7129.0</td>\n",
              "      <td>10739.869054</td>\n",
              "      <td>-3610.869054</td>\n",
              "    </tr>\n",
              "  </tbody>\n",
              "</table>\n",
              "</div>\n",
              "      <button class=\"colab-df-convert\" onclick=\"convertToInteractive('df-ad57ab3d-cf17-439d-8435-4665e25b9fee')\"\n",
              "              title=\"Convert this dataframe to an interactive table.\"\n",
              "              style=\"display:none;\">\n",
              "        \n",
              "  <svg xmlns=\"http://www.w3.org/2000/svg\" height=\"24px\"viewBox=\"0 0 24 24\"\n",
              "       width=\"24px\">\n",
              "    <path d=\"M0 0h24v24H0V0z\" fill=\"none\"/>\n",
              "    <path d=\"M18.56 5.44l.94 2.06.94-2.06 2.06-.94-2.06-.94-.94-2.06-.94 2.06-2.06.94zm-11 1L8.5 8.5l.94-2.06 2.06-.94-2.06-.94L8.5 2.5l-.94 2.06-2.06.94zm10 10l.94 2.06.94-2.06 2.06-.94-2.06-.94-.94-2.06-.94 2.06-2.06.94z\"/><path d=\"M17.41 7.96l-1.37-1.37c-.4-.4-.92-.59-1.43-.59-.52 0-1.04.2-1.43.59L10.3 9.45l-7.72 7.72c-.78.78-.78 2.05 0 2.83L4 21.41c.39.39.9.59 1.41.59.51 0 1.02-.2 1.41-.59l7.78-7.78 2.81-2.81c.8-.78.8-2.07 0-2.86zM5.41 20L4 18.59l7.72-7.72 1.47 1.35L5.41 20z\"/>\n",
              "  </svg>\n",
              "      </button>\n",
              "      \n",
              "  <style>\n",
              "    .colab-df-container {\n",
              "      display:flex;\n",
              "      flex-wrap:wrap;\n",
              "      gap: 12px;\n",
              "    }\n",
              "\n",
              "    .colab-df-convert {\n",
              "      background-color: #E8F0FE;\n",
              "      border: none;\n",
              "      border-radius: 50%;\n",
              "      cursor: pointer;\n",
              "      display: none;\n",
              "      fill: #1967D2;\n",
              "      height: 32px;\n",
              "      padding: 0 0 0 0;\n",
              "      width: 32px;\n",
              "    }\n",
              "\n",
              "    .colab-df-convert:hover {\n",
              "      background-color: #E2EBFA;\n",
              "      box-shadow: 0px 1px 2px rgba(60, 64, 67, 0.3), 0px 1px 3px 1px rgba(60, 64, 67, 0.15);\n",
              "      fill: #174EA6;\n",
              "    }\n",
              "\n",
              "    [theme=dark] .colab-df-convert {\n",
              "      background-color: #3B4455;\n",
              "      fill: #D2E3FC;\n",
              "    }\n",
              "\n",
              "    [theme=dark] .colab-df-convert:hover {\n",
              "      background-color: #434B5C;\n",
              "      box-shadow: 0px 1px 3px 1px rgba(0, 0, 0, 0.15);\n",
              "      filter: drop-shadow(0px 1px 2px rgba(0, 0, 0, 0.3));\n",
              "      fill: #FFFFFF;\n",
              "    }\n",
              "  </style>\n",
              "\n",
              "      <script>\n",
              "        const buttonEl =\n",
              "          document.querySelector('#df-ad57ab3d-cf17-439d-8435-4665e25b9fee button.colab-df-convert');\n",
              "        buttonEl.style.display =\n",
              "          google.colab.kernel.accessAllowed ? 'block' : 'none';\n",
              "\n",
              "        async function convertToInteractive(key) {\n",
              "          const element = document.querySelector('#df-ad57ab3d-cf17-439d-8435-4665e25b9fee');\n",
              "          const dataTable =\n",
              "            await google.colab.kernel.invokeFunction('convertToInteractive',\n",
              "                                                     [key], {});\n",
              "          if (!dataTable) return;\n",
              "\n",
              "          const docLinkHtml = 'Like what you see? Visit the ' +\n",
              "            '<a target=\"_blank\" href=https://colab.research.google.com/notebooks/data_table.ipynb>data table notebook</a>'\n",
              "            + ' to learn more about interactive tables.';\n",
              "          element.innerHTML = '';\n",
              "          dataTable['output_type'] = 'display_data';\n",
              "          await google.colab.output.renderOutput(dataTable, element);\n",
              "          const docLink = document.createElement('div');\n",
              "          docLink.innerHTML = docLinkHtml;\n",
              "          element.appendChild(docLink);\n",
              "        }\n",
              "      </script>\n",
              "    </div>\n",
              "  </div>\n",
              "  "
            ]
          },
          "metadata": {},
          "execution_count": 113
        }
      ]
    },
    {
      "cell_type": "code",
      "source": [
        "r2 = r2_score(residuals['real'], residuals['predict'])\n",
        "mse = mean_squared_error(residuals['real'], residuals['predict'])\n",
        "rmse = np.sqrt(mse)\n",
        "\n",
        "print(f'R_sq: {r2}\\nMSE: {mse}\\nRMSE: {rmse}')"
      ],
      "metadata": {
        "colab": {
          "base_uri": "https://localhost:8080/"
        },
        "id": "Z-pVx5H50NNL",
        "outputId": "3b768ae1-4dd9-4a7d-d63d-749a59848216"
      },
      "execution_count": 114,
      "outputs": [
        {
          "output_type": "stream",
          "name": "stdout",
          "text": [
            "R_sq: 0.1730602138756645\n",
            "MSE: 56492052.330627024\n",
            "RMSE: 7516.119499490879\n"
          ]
        }
      ]
    },
    {
      "cell_type": "code",
      "source": [
        "fig = plt.figure(figsize=(18,12))\n",
        "\n",
        "sns.scatterplot(x=residuals['predict'], y=residuals['residual'])\n",
        "\n",
        "plt.show()"
      ],
      "metadata": {
        "colab": {
          "base_uri": "https://localhost:8080/",
          "height": 714
        },
        "id": "XEospRFB0O8j",
        "outputId": "d23a2be8-8270-4b9f-e12e-c9b769c25290"
      },
      "execution_count": 115,
      "outputs": [
        {
          "output_type": "display_data",
          "data": {
            "text/plain": [
              "<Figure size 1296x864 with 1 Axes>"
            ],
            "image/png": "[encoded data removed]"
          },
          "metadata": {
            "needs_background": "light"
          }
        }
      ]
    }
  ]
}